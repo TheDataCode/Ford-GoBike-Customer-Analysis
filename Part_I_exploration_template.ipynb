{
 "cells": [
  {
   "cell_type": "markdown",
   "metadata": {},
   "source": [
    "## Ford GoBike-share Data Exploration\n",
    "## Zainab Mohammed\n",
    "\n",
    "## Introduction\n",
    "This data consist of information about a bike-sharing system covering San Francisco Bay area for a month. This program is a shared transport service where bicycles are available for shared use.\n",
    "It includes information about members of this program which includes duration of their trips,age,gender,bike_id.\n",
    "The dataset can be found [here](https://github.com/BetaNYC/Bike-Share-Data-Best-Practices/wiki/Bike-Share-Data-Systems)\n",
    "\n",
    "\n",
    "\n",
    "\n",
    "## Preliminary Wrangling\n"
   ]
  },
  {
   "cell_type": "code",
   "execution_count": 47,
   "metadata": {},
   "outputs": [],
   "source": [
    "# import packages \n",
    "\n",
    "import numpy as np\n",
    "import pandas as pd\n",
    "import matplotlib.pyplot as plt\n",
    "import seaborn as sns\n",
    "pd.set_option('display.max_rows',None)\n",
    "%matplotlib inline"
   ]
  },
  {
   "cell_type": "code",
   "execution_count": 48,
   "metadata": {},
   "outputs": [
    {
     "data": {
      "text/html": [
       "<div>\n",
       "<style scoped>\n",
       "    .dataframe tbody tr th:only-of-type {\n",
       "        vertical-align: middle;\n",
       "    }\n",
       "\n",
       "    .dataframe tbody tr th {\n",
       "        vertical-align: top;\n",
       "    }\n",
       "\n",
       "    .dataframe thead th {\n",
       "        text-align: right;\n",
       "    }\n",
       "</style>\n",
       "<table border=\"1\" class=\"dataframe\">\n",
       "  <thead>\n",
       "    <tr style=\"text-align: right;\">\n",
       "      <th></th>\n",
       "      <th>duration_sec</th>\n",
       "      <th>start_time</th>\n",
       "      <th>end_time</th>\n",
       "      <th>start_station_id</th>\n",
       "      <th>start_station_name</th>\n",
       "      <th>start_station_latitude</th>\n",
       "      <th>start_station_longitude</th>\n",
       "      <th>end_station_id</th>\n",
       "      <th>end_station_name</th>\n",
       "      <th>end_station_latitude</th>\n",
       "      <th>end_station_longitude</th>\n",
       "      <th>bike_id</th>\n",
       "      <th>user_type</th>\n",
       "      <th>member_birth_year</th>\n",
       "      <th>member_gender</th>\n",
       "      <th>bike_share_for_all_trip</th>\n",
       "    </tr>\n",
       "  </thead>\n",
       "  <tbody>\n",
       "    <tr>\n",
       "      <th>0</th>\n",
       "      <td>52185</td>\n",
       "      <td>2019-02-28 17:32:10.1450</td>\n",
       "      <td>2019-03-01 08:01:55.9750</td>\n",
       "      <td>21.0</td>\n",
       "      <td>Montgomery St BART Station (Market St at 2nd St)</td>\n",
       "      <td>37.789625</td>\n",
       "      <td>-122.400811</td>\n",
       "      <td>13.0</td>\n",
       "      <td>Commercial St at Montgomery St</td>\n",
       "      <td>37.794231</td>\n",
       "      <td>-122.402923</td>\n",
       "      <td>4902</td>\n",
       "      <td>Customer</td>\n",
       "      <td>1984.0</td>\n",
       "      <td>Male</td>\n",
       "      <td>No</td>\n",
       "    </tr>\n",
       "    <tr>\n",
       "      <th>1</th>\n",
       "      <td>42521</td>\n",
       "      <td>2019-02-28 18:53:21.7890</td>\n",
       "      <td>2019-03-01 06:42:03.0560</td>\n",
       "      <td>23.0</td>\n",
       "      <td>The Embarcadero at Steuart St</td>\n",
       "      <td>37.791464</td>\n",
       "      <td>-122.391034</td>\n",
       "      <td>81.0</td>\n",
       "      <td>Berry St at 4th St</td>\n",
       "      <td>37.775880</td>\n",
       "      <td>-122.393170</td>\n",
       "      <td>2535</td>\n",
       "      <td>Customer</td>\n",
       "      <td>NaN</td>\n",
       "      <td>NaN</td>\n",
       "      <td>No</td>\n",
       "    </tr>\n",
       "    <tr>\n",
       "      <th>2</th>\n",
       "      <td>61854</td>\n",
       "      <td>2019-02-28 12:13:13.2180</td>\n",
       "      <td>2019-03-01 05:24:08.1460</td>\n",
       "      <td>86.0</td>\n",
       "      <td>Market St at Dolores St</td>\n",
       "      <td>37.769305</td>\n",
       "      <td>-122.426826</td>\n",
       "      <td>3.0</td>\n",
       "      <td>Powell St BART Station (Market St at 4th St)</td>\n",
       "      <td>37.786375</td>\n",
       "      <td>-122.404904</td>\n",
       "      <td>5905</td>\n",
       "      <td>Customer</td>\n",
       "      <td>1972.0</td>\n",
       "      <td>Male</td>\n",
       "      <td>No</td>\n",
       "    </tr>\n",
       "    <tr>\n",
       "      <th>3</th>\n",
       "      <td>36490</td>\n",
       "      <td>2019-02-28 17:54:26.0100</td>\n",
       "      <td>2019-03-01 04:02:36.8420</td>\n",
       "      <td>375.0</td>\n",
       "      <td>Grove St at Masonic Ave</td>\n",
       "      <td>37.774836</td>\n",
       "      <td>-122.446546</td>\n",
       "      <td>70.0</td>\n",
       "      <td>Central Ave at Fell St</td>\n",
       "      <td>37.773311</td>\n",
       "      <td>-122.444293</td>\n",
       "      <td>6638</td>\n",
       "      <td>Subscriber</td>\n",
       "      <td>1989.0</td>\n",
       "      <td>Other</td>\n",
       "      <td>No</td>\n",
       "    </tr>\n",
       "    <tr>\n",
       "      <th>4</th>\n",
       "      <td>1585</td>\n",
       "      <td>2019-02-28 23:54:18.5490</td>\n",
       "      <td>2019-03-01 00:20:44.0740</td>\n",
       "      <td>7.0</td>\n",
       "      <td>Frank H Ogawa Plaza</td>\n",
       "      <td>37.804562</td>\n",
       "      <td>-122.271738</td>\n",
       "      <td>222.0</td>\n",
       "      <td>10th Ave at E 15th St</td>\n",
       "      <td>37.792714</td>\n",
       "      <td>-122.248780</td>\n",
       "      <td>4898</td>\n",
       "      <td>Subscriber</td>\n",
       "      <td>1974.0</td>\n",
       "      <td>Male</td>\n",
       "      <td>Yes</td>\n",
       "    </tr>\n",
       "  </tbody>\n",
       "</table>\n",
       "</div>"
      ],
      "text/plain": [
       "   duration_sec                start_time                  end_time  \\\n",
       "0         52185  2019-02-28 17:32:10.1450  2019-03-01 08:01:55.9750   \n",
       "1         42521  2019-02-28 18:53:21.7890  2019-03-01 06:42:03.0560   \n",
       "2         61854  2019-02-28 12:13:13.2180  2019-03-01 05:24:08.1460   \n",
       "3         36490  2019-02-28 17:54:26.0100  2019-03-01 04:02:36.8420   \n",
       "4          1585  2019-02-28 23:54:18.5490  2019-03-01 00:20:44.0740   \n",
       "\n",
       "   start_station_id                                start_station_name  \\\n",
       "0              21.0  Montgomery St BART Station (Market St at 2nd St)   \n",
       "1              23.0                     The Embarcadero at Steuart St   \n",
       "2              86.0                           Market St at Dolores St   \n",
       "3             375.0                           Grove St at Masonic Ave   \n",
       "4               7.0                               Frank H Ogawa Plaza   \n",
       "\n",
       "   start_station_latitude  start_station_longitude  end_station_id  \\\n",
       "0               37.789625              -122.400811            13.0   \n",
       "1               37.791464              -122.391034            81.0   \n",
       "2               37.769305              -122.426826             3.0   \n",
       "3               37.774836              -122.446546            70.0   \n",
       "4               37.804562              -122.271738           222.0   \n",
       "\n",
       "                               end_station_name  end_station_latitude  \\\n",
       "0                Commercial St at Montgomery St             37.794231   \n",
       "1                            Berry St at 4th St             37.775880   \n",
       "2  Powell St BART Station (Market St at 4th St)             37.786375   \n",
       "3                        Central Ave at Fell St             37.773311   \n",
       "4                         10th Ave at E 15th St             37.792714   \n",
       "\n",
       "   end_station_longitude  bike_id   user_type  member_birth_year  \\\n",
       "0            -122.402923     4902    Customer             1984.0   \n",
       "1            -122.393170     2535    Customer                NaN   \n",
       "2            -122.404904     5905    Customer             1972.0   \n",
       "3            -122.444293     6638  Subscriber             1989.0   \n",
       "4            -122.248780     4898  Subscriber             1974.0   \n",
       "\n",
       "  member_gender bike_share_for_all_trip  \n",
       "0          Male                      No  \n",
       "1           NaN                      No  \n",
       "2          Male                      No  \n",
       "3         Other                      No  \n",
       "4          Male                     Yes  "
      ]
     },
     "execution_count": 48,
     "metadata": {},
     "output_type": "execute_result"
    }
   ],
   "source": [
    "#read data into Dataframe\n",
    "df = pd.read_csv('fordgobike-tripdata.csv')\n",
    "df.head()"
   ]
  },
  {
   "cell_type": "code",
   "execution_count": 49,
   "metadata": {},
   "outputs": [
    {
     "data": {
      "text/html": [
       "<div>\n",
       "<style scoped>\n",
       "    .dataframe tbody tr th:only-of-type {\n",
       "        vertical-align: middle;\n",
       "    }\n",
       "\n",
       "    .dataframe tbody tr th {\n",
       "        vertical-align: top;\n",
       "    }\n",
       "\n",
       "    .dataframe thead th {\n",
       "        text-align: right;\n",
       "    }\n",
       "</style>\n",
       "<table border=\"1\" class=\"dataframe\">\n",
       "  <thead>\n",
       "    <tr style=\"text-align: right;\">\n",
       "      <th></th>\n",
       "      <th>duration_sec</th>\n",
       "      <th>start_time</th>\n",
       "      <th>end_time</th>\n",
       "      <th>start_station_id</th>\n",
       "      <th>start_station_name</th>\n",
       "      <th>start_station_latitude</th>\n",
       "      <th>start_station_longitude</th>\n",
       "      <th>end_station_id</th>\n",
       "      <th>end_station_name</th>\n",
       "      <th>end_station_latitude</th>\n",
       "      <th>end_station_longitude</th>\n",
       "      <th>bike_id</th>\n",
       "      <th>user_type</th>\n",
       "      <th>member_birth_year</th>\n",
       "      <th>member_gender</th>\n",
       "      <th>bike_share_for_all_trip</th>\n",
       "    </tr>\n",
       "  </thead>\n",
       "  <tbody>\n",
       "    <tr>\n",
       "      <th>183407</th>\n",
       "      <td>480</td>\n",
       "      <td>2019-02-01 00:04:49.7240</td>\n",
       "      <td>2019-02-01 00:12:50.0340</td>\n",
       "      <td>27.0</td>\n",
       "      <td>Beale St at Harrison St</td>\n",
       "      <td>37.788059</td>\n",
       "      <td>-122.391865</td>\n",
       "      <td>324.0</td>\n",
       "      <td>Union Square (Powell St at Post St)</td>\n",
       "      <td>37.788300</td>\n",
       "      <td>-122.408531</td>\n",
       "      <td>4832</td>\n",
       "      <td>Subscriber</td>\n",
       "      <td>1996.0</td>\n",
       "      <td>Male</td>\n",
       "      <td>No</td>\n",
       "    </tr>\n",
       "    <tr>\n",
       "      <th>183408</th>\n",
       "      <td>313</td>\n",
       "      <td>2019-02-01 00:05:34.7440</td>\n",
       "      <td>2019-02-01 00:10:48.5020</td>\n",
       "      <td>21.0</td>\n",
       "      <td>Montgomery St BART Station (Market St at 2nd St)</td>\n",
       "      <td>37.789625</td>\n",
       "      <td>-122.400811</td>\n",
       "      <td>66.0</td>\n",
       "      <td>3rd St at Townsend St</td>\n",
       "      <td>37.778742</td>\n",
       "      <td>-122.392741</td>\n",
       "      <td>4960</td>\n",
       "      <td>Subscriber</td>\n",
       "      <td>1984.0</td>\n",
       "      <td>Male</td>\n",
       "      <td>No</td>\n",
       "    </tr>\n",
       "    <tr>\n",
       "      <th>183409</th>\n",
       "      <td>141</td>\n",
       "      <td>2019-02-01 00:06:05.5490</td>\n",
       "      <td>2019-02-01 00:08:27.2200</td>\n",
       "      <td>278.0</td>\n",
       "      <td>The Alameda at Bush St</td>\n",
       "      <td>37.331932</td>\n",
       "      <td>-121.904888</td>\n",
       "      <td>277.0</td>\n",
       "      <td>Morrison Ave at Julian St</td>\n",
       "      <td>37.333658</td>\n",
       "      <td>-121.908586</td>\n",
       "      <td>3824</td>\n",
       "      <td>Subscriber</td>\n",
       "      <td>1990.0</td>\n",
       "      <td>Male</td>\n",
       "      <td>Yes</td>\n",
       "    </tr>\n",
       "    <tr>\n",
       "      <th>183410</th>\n",
       "      <td>139</td>\n",
       "      <td>2019-02-01 00:05:34.3600</td>\n",
       "      <td>2019-02-01 00:07:54.2870</td>\n",
       "      <td>220.0</td>\n",
       "      <td>San Pablo Ave at MLK Jr Way</td>\n",
       "      <td>37.811351</td>\n",
       "      <td>-122.273422</td>\n",
       "      <td>216.0</td>\n",
       "      <td>San Pablo Ave at 27th St</td>\n",
       "      <td>37.817827</td>\n",
       "      <td>-122.275698</td>\n",
       "      <td>5095</td>\n",
       "      <td>Subscriber</td>\n",
       "      <td>1988.0</td>\n",
       "      <td>Male</td>\n",
       "      <td>No</td>\n",
       "    </tr>\n",
       "    <tr>\n",
       "      <th>183411</th>\n",
       "      <td>271</td>\n",
       "      <td>2019-02-01 00:00:20.6360</td>\n",
       "      <td>2019-02-01 00:04:52.0580</td>\n",
       "      <td>24.0</td>\n",
       "      <td>Spear St at Folsom St</td>\n",
       "      <td>37.789677</td>\n",
       "      <td>-122.390428</td>\n",
       "      <td>37.0</td>\n",
       "      <td>2nd St at Folsom St</td>\n",
       "      <td>37.785000</td>\n",
       "      <td>-122.395936</td>\n",
       "      <td>1057</td>\n",
       "      <td>Subscriber</td>\n",
       "      <td>1989.0</td>\n",
       "      <td>Male</td>\n",
       "      <td>No</td>\n",
       "    </tr>\n",
       "  </tbody>\n",
       "</table>\n",
       "</div>"
      ],
      "text/plain": [
       "        duration_sec                start_time                  end_time  \\\n",
       "183407           480  2019-02-01 00:04:49.7240  2019-02-01 00:12:50.0340   \n",
       "183408           313  2019-02-01 00:05:34.7440  2019-02-01 00:10:48.5020   \n",
       "183409           141  2019-02-01 00:06:05.5490  2019-02-01 00:08:27.2200   \n",
       "183410           139  2019-02-01 00:05:34.3600  2019-02-01 00:07:54.2870   \n",
       "183411           271  2019-02-01 00:00:20.6360  2019-02-01 00:04:52.0580   \n",
       "\n",
       "        start_station_id                                start_station_name  \\\n",
       "183407              27.0                           Beale St at Harrison St   \n",
       "183408              21.0  Montgomery St BART Station (Market St at 2nd St)   \n",
       "183409             278.0                            The Alameda at Bush St   \n",
       "183410             220.0                       San Pablo Ave at MLK Jr Way   \n",
       "183411              24.0                             Spear St at Folsom St   \n",
       "\n",
       "        start_station_latitude  start_station_longitude  end_station_id  \\\n",
       "183407               37.788059              -122.391865           324.0   \n",
       "183408               37.789625              -122.400811            66.0   \n",
       "183409               37.331932              -121.904888           277.0   \n",
       "183410               37.811351              -122.273422           216.0   \n",
       "183411               37.789677              -122.390428            37.0   \n",
       "\n",
       "                           end_station_name  end_station_latitude  \\\n",
       "183407  Union Square (Powell St at Post St)             37.788300   \n",
       "183408                3rd St at Townsend St             37.778742   \n",
       "183409            Morrison Ave at Julian St             37.333658   \n",
       "183410             San Pablo Ave at 27th St             37.817827   \n",
       "183411                  2nd St at Folsom St             37.785000   \n",
       "\n",
       "        end_station_longitude  bike_id   user_type  member_birth_year  \\\n",
       "183407            -122.408531     4832  Subscriber             1996.0   \n",
       "183408            -122.392741     4960  Subscriber             1984.0   \n",
       "183409            -121.908586     3824  Subscriber             1990.0   \n",
       "183410            -122.275698     5095  Subscriber             1988.0   \n",
       "183411            -122.395936     1057  Subscriber             1989.0   \n",
       "\n",
       "       member_gender bike_share_for_all_trip  \n",
       "183407          Male                      No  \n",
       "183408          Male                      No  \n",
       "183409          Male                     Yes  \n",
       "183410          Male                      No  \n",
       "183411          Male                      No  "
      ]
     },
     "execution_count": 49,
     "metadata": {},
     "output_type": "execute_result"
    }
   ],
   "source": [
    "#inspect the last few rows\n",
    "df.tail(5)"
   ]
  },
  {
   "cell_type": "code",
   "execution_count": 50,
   "metadata": {},
   "outputs": [
    {
     "data": {
      "text/html": [
       "<div>\n",
       "<style scoped>\n",
       "    .dataframe tbody tr th:only-of-type {\n",
       "        vertical-align: middle;\n",
       "    }\n",
       "\n",
       "    .dataframe tbody tr th {\n",
       "        vertical-align: top;\n",
       "    }\n",
       "\n",
       "    .dataframe thead th {\n",
       "        text-align: right;\n",
       "    }\n",
       "</style>\n",
       "<table border=\"1\" class=\"dataframe\">\n",
       "  <thead>\n",
       "    <tr style=\"text-align: right;\">\n",
       "      <th></th>\n",
       "      <th>duration_sec</th>\n",
       "      <th>start_time</th>\n",
       "      <th>end_time</th>\n",
       "      <th>start_station_id</th>\n",
       "      <th>start_station_name</th>\n",
       "      <th>start_station_latitude</th>\n",
       "      <th>start_station_longitude</th>\n",
       "      <th>end_station_id</th>\n",
       "      <th>end_station_name</th>\n",
       "      <th>end_station_latitude</th>\n",
       "      <th>end_station_longitude</th>\n",
       "      <th>bike_id</th>\n",
       "      <th>user_type</th>\n",
       "      <th>member_birth_year</th>\n",
       "      <th>member_gender</th>\n",
       "      <th>bike_share_for_all_trip</th>\n",
       "    </tr>\n",
       "  </thead>\n",
       "  <tbody>\n",
       "    <tr>\n",
       "      <th>99271</th>\n",
       "      <td>1052</td>\n",
       "      <td>2019-02-14 20:24:19.4600</td>\n",
       "      <td>2019-02-14 20:41:51.8960</td>\n",
       "      <td>6.0</td>\n",
       "      <td>The Embarcadero at Sansome St</td>\n",
       "      <td>37.804770</td>\n",
       "      <td>-122.403234</td>\n",
       "      <td>58.0</td>\n",
       "      <td>Market St at 10th St</td>\n",
       "      <td>37.776619</td>\n",
       "      <td>-122.417385</td>\n",
       "      <td>6530</td>\n",
       "      <td>Subscriber</td>\n",
       "      <td>1993.0</td>\n",
       "      <td>Male</td>\n",
       "      <td>No</td>\n",
       "    </tr>\n",
       "    <tr>\n",
       "      <th>40512</th>\n",
       "      <td>504</td>\n",
       "      <td>2019-02-22 20:31:52.4630</td>\n",
       "      <td>2019-02-22 20:40:16.4890</td>\n",
       "      <td>50.0</td>\n",
       "      <td>2nd St at Townsend St</td>\n",
       "      <td>37.780526</td>\n",
       "      <td>-122.390288</td>\n",
       "      <td>15.0</td>\n",
       "      <td>San Francisco Ferry Building (Harry Bridges Pl...</td>\n",
       "      <td>37.795392</td>\n",
       "      <td>-122.394203</td>\n",
       "      <td>1547</td>\n",
       "      <td>Subscriber</td>\n",
       "      <td>1979.0</td>\n",
       "      <td>Male</td>\n",
       "      <td>No</td>\n",
       "    </tr>\n",
       "    <tr>\n",
       "      <th>29043</th>\n",
       "      <td>548</td>\n",
       "      <td>2019-02-25 07:58:17.8390</td>\n",
       "      <td>2019-02-25 08:07:26.0320</td>\n",
       "      <td>115.0</td>\n",
       "      <td>Jackson Playground</td>\n",
       "      <td>37.765026</td>\n",
       "      <td>-122.398773</td>\n",
       "      <td>81.0</td>\n",
       "      <td>Berry St at 4th St</td>\n",
       "      <td>37.775880</td>\n",
       "      <td>-122.393170</td>\n",
       "      <td>2722</td>\n",
       "      <td>Subscriber</td>\n",
       "      <td>1966.0</td>\n",
       "      <td>Female</td>\n",
       "      <td>No</td>\n",
       "    </tr>\n",
       "    <tr>\n",
       "      <th>4280</th>\n",
       "      <td>1586</td>\n",
       "      <td>2019-02-28 15:51:40.1080</td>\n",
       "      <td>2019-02-28 16:18:06.5600</td>\n",
       "      <td>144.0</td>\n",
       "      <td>Precita Park</td>\n",
       "      <td>37.747300</td>\n",
       "      <td>-122.411403</td>\n",
       "      <td>29.0</td>\n",
       "      <td>O'Farrell St at Divisadero St</td>\n",
       "      <td>37.782405</td>\n",
       "      <td>-122.439446</td>\n",
       "      <td>5296</td>\n",
       "      <td>Subscriber</td>\n",
       "      <td>1994.0</td>\n",
       "      <td>Male</td>\n",
       "      <td>No</td>\n",
       "    </tr>\n",
       "    <tr>\n",
       "      <th>113913</th>\n",
       "      <td>731</td>\n",
       "      <td>2019-02-12 10:27:37.3000</td>\n",
       "      <td>2019-02-12 10:39:48.7970</td>\n",
       "      <td>58.0</td>\n",
       "      <td>Market St at 10th St</td>\n",
       "      <td>37.776619</td>\n",
       "      <td>-122.417385</td>\n",
       "      <td>29.0</td>\n",
       "      <td>O'Farrell St at Divisadero St</td>\n",
       "      <td>37.782405</td>\n",
       "      <td>-122.439446</td>\n",
       "      <td>5442</td>\n",
       "      <td>Subscriber</td>\n",
       "      <td>1984.0</td>\n",
       "      <td>Male</td>\n",
       "      <td>No</td>\n",
       "    </tr>\n",
       "  </tbody>\n",
       "</table>\n",
       "</div>"
      ],
      "text/plain": [
       "        duration_sec                start_time                  end_time  \\\n",
       "99271           1052  2019-02-14 20:24:19.4600  2019-02-14 20:41:51.8960   \n",
       "40512            504  2019-02-22 20:31:52.4630  2019-02-22 20:40:16.4890   \n",
       "29043            548  2019-02-25 07:58:17.8390  2019-02-25 08:07:26.0320   \n",
       "4280            1586  2019-02-28 15:51:40.1080  2019-02-28 16:18:06.5600   \n",
       "113913           731  2019-02-12 10:27:37.3000  2019-02-12 10:39:48.7970   \n",
       "\n",
       "        start_station_id             start_station_name  \\\n",
       "99271                6.0  The Embarcadero at Sansome St   \n",
       "40512               50.0          2nd St at Townsend St   \n",
       "29043              115.0             Jackson Playground   \n",
       "4280               144.0                   Precita Park   \n",
       "113913              58.0           Market St at 10th St   \n",
       "\n",
       "        start_station_latitude  start_station_longitude  end_station_id  \\\n",
       "99271                37.804770              -122.403234            58.0   \n",
       "40512                37.780526              -122.390288            15.0   \n",
       "29043                37.765026              -122.398773            81.0   \n",
       "4280                 37.747300              -122.411403            29.0   \n",
       "113913               37.776619              -122.417385            29.0   \n",
       "\n",
       "                                         end_station_name  \\\n",
       "99271                                Market St at 10th St   \n",
       "40512   San Francisco Ferry Building (Harry Bridges Pl...   \n",
       "29043                                  Berry St at 4th St   \n",
       "4280                        O'Farrell St at Divisadero St   \n",
       "113913                      O'Farrell St at Divisadero St   \n",
       "\n",
       "        end_station_latitude  end_station_longitude  bike_id   user_type  \\\n",
       "99271              37.776619            -122.417385     6530  Subscriber   \n",
       "40512              37.795392            -122.394203     1547  Subscriber   \n",
       "29043              37.775880            -122.393170     2722  Subscriber   \n",
       "4280               37.782405            -122.439446     5296  Subscriber   \n",
       "113913             37.782405            -122.439446     5442  Subscriber   \n",
       "\n",
       "        member_birth_year member_gender bike_share_for_all_trip  \n",
       "99271              1993.0          Male                      No  \n",
       "40512              1979.0          Male                      No  \n",
       "29043              1966.0        Female                      No  \n",
       "4280               1994.0          Male                      No  \n",
       "113913             1984.0          Male                      No  "
      ]
     },
     "execution_count": 50,
     "metadata": {},
     "output_type": "execute_result"
    }
   ],
   "source": [
    "#inspect a random sample of data\n",
    "df.sample(5)"
   ]
  },
  {
   "cell_type": "code",
   "execution_count": 51,
   "metadata": {},
   "outputs": [
    {
     "data": {
      "text/html": [
       "<div>\n",
       "<style scoped>\n",
       "    .dataframe tbody tr th:only-of-type {\n",
       "        vertical-align: middle;\n",
       "    }\n",
       "\n",
       "    .dataframe tbody tr th {\n",
       "        vertical-align: top;\n",
       "    }\n",
       "\n",
       "    .dataframe thead th {\n",
       "        text-align: right;\n",
       "    }\n",
       "</style>\n",
       "<table border=\"1\" class=\"dataframe\">\n",
       "  <thead>\n",
       "    <tr style=\"text-align: right;\">\n",
       "      <th></th>\n",
       "      <th>duration_sec</th>\n",
       "      <th>start_station_id</th>\n",
       "      <th>start_station_latitude</th>\n",
       "      <th>start_station_longitude</th>\n",
       "      <th>end_station_id</th>\n",
       "      <th>end_station_latitude</th>\n",
       "      <th>end_station_longitude</th>\n",
       "      <th>bike_id</th>\n",
       "      <th>member_birth_year</th>\n",
       "    </tr>\n",
       "  </thead>\n",
       "  <tbody>\n",
       "    <tr>\n",
       "      <th>count</th>\n",
       "      <td>183412.000000</td>\n",
       "      <td>183215.000000</td>\n",
       "      <td>183412.000000</td>\n",
       "      <td>183412.000000</td>\n",
       "      <td>183215.000000</td>\n",
       "      <td>183412.000000</td>\n",
       "      <td>183412.000000</td>\n",
       "      <td>183412.000000</td>\n",
       "      <td>175147.000000</td>\n",
       "    </tr>\n",
       "    <tr>\n",
       "      <th>mean</th>\n",
       "      <td>726.078435</td>\n",
       "      <td>138.590427</td>\n",
       "      <td>37.771223</td>\n",
       "      <td>-122.352664</td>\n",
       "      <td>136.249123</td>\n",
       "      <td>37.771427</td>\n",
       "      <td>-122.352250</td>\n",
       "      <td>4472.906375</td>\n",
       "      <td>1984.806437</td>\n",
       "    </tr>\n",
       "    <tr>\n",
       "      <th>std</th>\n",
       "      <td>1794.389780</td>\n",
       "      <td>111.778864</td>\n",
       "      <td>0.099581</td>\n",
       "      <td>0.117097</td>\n",
       "      <td>111.515131</td>\n",
       "      <td>0.099490</td>\n",
       "      <td>0.116673</td>\n",
       "      <td>1664.383394</td>\n",
       "      <td>10.116689</td>\n",
       "    </tr>\n",
       "    <tr>\n",
       "      <th>min</th>\n",
       "      <td>61.000000</td>\n",
       "      <td>3.000000</td>\n",
       "      <td>37.317298</td>\n",
       "      <td>-122.453704</td>\n",
       "      <td>3.000000</td>\n",
       "      <td>37.317298</td>\n",
       "      <td>-122.453704</td>\n",
       "      <td>11.000000</td>\n",
       "      <td>1878.000000</td>\n",
       "    </tr>\n",
       "    <tr>\n",
       "      <th>25%</th>\n",
       "      <td>325.000000</td>\n",
       "      <td>47.000000</td>\n",
       "      <td>37.770083</td>\n",
       "      <td>-122.412408</td>\n",
       "      <td>44.000000</td>\n",
       "      <td>37.770407</td>\n",
       "      <td>-122.411726</td>\n",
       "      <td>3777.000000</td>\n",
       "      <td>1980.000000</td>\n",
       "    </tr>\n",
       "    <tr>\n",
       "      <th>50%</th>\n",
       "      <td>514.000000</td>\n",
       "      <td>104.000000</td>\n",
       "      <td>37.780760</td>\n",
       "      <td>-122.398285</td>\n",
       "      <td>100.000000</td>\n",
       "      <td>37.781010</td>\n",
       "      <td>-122.398279</td>\n",
       "      <td>4958.000000</td>\n",
       "      <td>1987.000000</td>\n",
       "    </tr>\n",
       "    <tr>\n",
       "      <th>75%</th>\n",
       "      <td>796.000000</td>\n",
       "      <td>239.000000</td>\n",
       "      <td>37.797280</td>\n",
       "      <td>-122.286533</td>\n",
       "      <td>235.000000</td>\n",
       "      <td>37.797320</td>\n",
       "      <td>-122.288045</td>\n",
       "      <td>5502.000000</td>\n",
       "      <td>1992.000000</td>\n",
       "    </tr>\n",
       "    <tr>\n",
       "      <th>max</th>\n",
       "      <td>85444.000000</td>\n",
       "      <td>398.000000</td>\n",
       "      <td>37.880222</td>\n",
       "      <td>-121.874119</td>\n",
       "      <td>398.000000</td>\n",
       "      <td>37.880222</td>\n",
       "      <td>-121.874119</td>\n",
       "      <td>6645.000000</td>\n",
       "      <td>2001.000000</td>\n",
       "    </tr>\n",
       "  </tbody>\n",
       "</table>\n",
       "</div>"
      ],
      "text/plain": [
       "        duration_sec  start_station_id  start_station_latitude  \\\n",
       "count  183412.000000     183215.000000           183412.000000   \n",
       "mean      726.078435        138.590427               37.771223   \n",
       "std      1794.389780        111.778864                0.099581   \n",
       "min        61.000000          3.000000               37.317298   \n",
       "25%       325.000000         47.000000               37.770083   \n",
       "50%       514.000000        104.000000               37.780760   \n",
       "75%       796.000000        239.000000               37.797280   \n",
       "max     85444.000000        398.000000               37.880222   \n",
       "\n",
       "       start_station_longitude  end_station_id  end_station_latitude  \\\n",
       "count            183412.000000   183215.000000         183412.000000   \n",
       "mean               -122.352664      136.249123             37.771427   \n",
       "std                   0.117097      111.515131              0.099490   \n",
       "min                -122.453704        3.000000             37.317298   \n",
       "25%                -122.412408       44.000000             37.770407   \n",
       "50%                -122.398285      100.000000             37.781010   \n",
       "75%                -122.286533      235.000000             37.797320   \n",
       "max                -121.874119      398.000000             37.880222   \n",
       "\n",
       "       end_station_longitude        bike_id  member_birth_year  \n",
       "count          183412.000000  183412.000000      175147.000000  \n",
       "mean             -122.352250    4472.906375        1984.806437  \n",
       "std                 0.116673    1664.383394          10.116689  \n",
       "min              -122.453704      11.000000        1878.000000  \n",
       "25%              -122.411726    3777.000000        1980.000000  \n",
       "50%              -122.398279    4958.000000        1987.000000  \n",
       "75%              -122.288045    5502.000000        1992.000000  \n",
       "max              -121.874119    6645.000000        2001.000000  "
      ]
     },
     "execution_count": 51,
     "metadata": {},
     "output_type": "execute_result"
    }
   ],
   "source": [
    "#summary statistics of data\n",
    "\n",
    "df.describe()"
   ]
  },
  {
   "cell_type": "code",
   "execution_count": 52,
   "metadata": {},
   "outputs": [
    {
     "data": {
      "text/plain": [
       "0"
      ]
     },
     "execution_count": 52,
     "metadata": {},
     "output_type": "execute_result"
    }
   ],
   "source": [
    "# check for duplicates\n",
    "\n",
    "df.duplicated().sum()"
   ]
  },
  {
   "cell_type": "code",
   "execution_count": 53,
   "metadata": {},
   "outputs": [
    {
     "name": "stdout",
     "output_type": "stream",
     "text": [
      "<class 'pandas.core.frame.DataFrame'>\n",
      "RangeIndex: 183412 entries, 0 to 183411\n",
      "Data columns (total 16 columns):\n",
      " #   Column                   Non-Null Count   Dtype  \n",
      "---  ------                   --------------   -----  \n",
      " 0   duration_sec             183412 non-null  int64  \n",
      " 1   start_time               183412 non-null  object \n",
      " 2   end_time                 183412 non-null  object \n",
      " 3   start_station_id         183215 non-null  float64\n",
      " 4   start_station_name       183215 non-null  object \n",
      " 5   start_station_latitude   183412 non-null  float64\n",
      " 6   start_station_longitude  183412 non-null  float64\n",
      " 7   end_station_id           183215 non-null  float64\n",
      " 8   end_station_name         183215 non-null  object \n",
      " 9   end_station_latitude     183412 non-null  float64\n",
      " 10  end_station_longitude    183412 non-null  float64\n",
      " 11  bike_id                  183412 non-null  int64  \n",
      " 12  user_type                183412 non-null  object \n",
      " 13  member_birth_year        175147 non-null  float64\n",
      " 14  member_gender            175147 non-null  object \n",
      " 15  bike_share_for_all_trip  183412 non-null  object \n",
      "dtypes: float64(7), int64(2), object(7)\n",
      "memory usage: 22.4+ MB\n"
     ]
    }
   ],
   "source": [
    "df.info()"
   ]
  },
  {
   "cell_type": "code",
   "execution_count": 54,
   "metadata": {},
   "outputs": [
    {
     "data": {
      "text/plain": [
       "4646"
      ]
     },
     "execution_count": 54,
     "metadata": {},
     "output_type": "execute_result"
    }
   ],
   "source": [
    "#number of unique bikes in the dataset\n",
    "\n",
    "df['bike_id'].nunique()"
   ]
  },
  {
   "cell_type": "code",
   "execution_count": 55,
   "metadata": {},
   "outputs": [
    {
     "data": {
      "text/plain": [
       "Subscriber    163544\n",
       "Customer       19868\n",
       "Name: user_type, dtype: int64"
      ]
     },
     "execution_count": 55,
     "metadata": {},
     "output_type": "execute_result"
    }
   ],
   "source": [
    "df['user_type'].value_counts()"
   ]
  },
  {
   "cell_type": "code",
   "execution_count": 56,
   "metadata": {},
   "outputs": [
    {
     "data": {
      "text/plain": [
       "No     166053\n",
       "Yes     17359\n",
       "Name: bike_share_for_all_trip, dtype: int64"
      ]
     },
     "execution_count": 56,
     "metadata": {},
     "output_type": "execute_result"
    }
   ],
   "source": [
    "df['bike_share_for_all_trip'].value_counts()"
   ]
  },
  {
   "cell_type": "code",
   "execution_count": 57,
   "metadata": {},
   "outputs": [],
   "source": [
    "# Make a copy of original dataset for wrangling\n",
    "bike_df = df.copy()"
   ]
  },
  {
   "cell_type": "markdown",
   "metadata": {},
   "source": [
    "### Convert data types"
   ]
  },
  {
   "cell_type": "code",
   "execution_count": 58,
   "metadata": {},
   "outputs": [
    {
     "name": "stdout",
     "output_type": "stream",
     "text": [
      "<class 'pandas.core.frame.DataFrame'>\n",
      "RangeIndex: 183412 entries, 0 to 183411\n",
      "Data columns (total 16 columns):\n",
      " #   Column                   Non-Null Count   Dtype         \n",
      "---  ------                   --------------   -----         \n",
      " 0   duration_sec             183412 non-null  int64         \n",
      " 1   start_time               183412 non-null  datetime64[ns]\n",
      " 2   end_time                 183412 non-null  datetime64[ns]\n",
      " 3   start_station_id         183215 non-null  float64       \n",
      " 4   start_station_name       183215 non-null  object        \n",
      " 5   start_station_latitude   183412 non-null  float64       \n",
      " 6   start_station_longitude  183412 non-null  float64       \n",
      " 7   end_station_id           183215 non-null  float64       \n",
      " 8   end_station_name         183215 non-null  object        \n",
      " 9   end_station_latitude     183412 non-null  float64       \n",
      " 10  end_station_longitude    183412 non-null  float64       \n",
      " 11  bike_id                  183412 non-null  object        \n",
      " 12  user_type                183412 non-null  object        \n",
      " 13  member_birth_year        175147 non-null  float64       \n",
      " 14  member_gender            175147 non-null  object        \n",
      " 15  bike_share_for_all_trip  183412 non-null  object        \n",
      "dtypes: datetime64[ns](2), float64(7), int64(1), object(6)\n",
      "memory usage: 22.4+ MB\n"
     ]
    }
   ],
   "source": [
    "bike_df['start_time'] = pd.to_datetime(bike_df['start_time'])\n",
    "bike_df['end_time'] = pd.to_datetime(bike_df['end_time'])\n",
    "bike_df['bike_id'] = bike_df['bike_id'].astype(str)\n",
    "bike_df.info()"
   ]
  },
  {
   "cell_type": "code",
   "execution_count": 59,
   "metadata": {},
   "outputs": [],
   "source": [
    "# convert seconds to minutes in the duration_sec column\n",
    "\n",
    "bike_df['duration_mins'] = (bike_df['duration_sec']/60).astype(int)\n",
    "\n",
    "\n",
    "#Extract hour for bike rides from start_time and end_time column\n",
    "\n",
    "bike_df['start_hour'] = bike_df['start_time'].dt.hour\n",
    "bike_df['end_hour'] = bike_df['end_time'].dt.hour"
   ]
  },
  {
   "cell_type": "code",
   "execution_count": 60,
   "metadata": {},
   "outputs": [
    {
     "data": {
      "text/html": [
       "<div>\n",
       "<style scoped>\n",
       "    .dataframe tbody tr th:only-of-type {\n",
       "        vertical-align: middle;\n",
       "    }\n",
       "\n",
       "    .dataframe tbody tr th {\n",
       "        vertical-align: top;\n",
       "    }\n",
       "\n",
       "    .dataframe thead th {\n",
       "        text-align: right;\n",
       "    }\n",
       "</style>\n",
       "<table border=\"1\" class=\"dataframe\">\n",
       "  <thead>\n",
       "    <tr style=\"text-align: right;\">\n",
       "      <th></th>\n",
       "      <th>duration_sec</th>\n",
       "      <th>start_time</th>\n",
       "      <th>end_time</th>\n",
       "      <th>start_station_id</th>\n",
       "      <th>start_station_name</th>\n",
       "      <th>start_station_latitude</th>\n",
       "      <th>start_station_longitude</th>\n",
       "      <th>end_station_id</th>\n",
       "      <th>end_station_name</th>\n",
       "      <th>end_station_latitude</th>\n",
       "      <th>...</th>\n",
       "      <th>member_birth_year</th>\n",
       "      <th>member_gender</th>\n",
       "      <th>bike_share_for_all_trip</th>\n",
       "      <th>duration_mins</th>\n",
       "      <th>start_hour</th>\n",
       "      <th>end_hour</th>\n",
       "      <th>start_day</th>\n",
       "      <th>end_day</th>\n",
       "      <th>start_date</th>\n",
       "      <th>end_date</th>\n",
       "    </tr>\n",
       "  </thead>\n",
       "  <tbody>\n",
       "    <tr>\n",
       "      <th>0</th>\n",
       "      <td>52185</td>\n",
       "      <td>2019-02-28 17:32:10.145</td>\n",
       "      <td>2019-03-01 08:01:55.975</td>\n",
       "      <td>21.0</td>\n",
       "      <td>Montgomery St BART Station (Market St at 2nd St)</td>\n",
       "      <td>37.789625</td>\n",
       "      <td>-122.400811</td>\n",
       "      <td>13.0</td>\n",
       "      <td>Commercial St at Montgomery St</td>\n",
       "      <td>37.794231</td>\n",
       "      <td>...</td>\n",
       "      <td>1984.0</td>\n",
       "      <td>Male</td>\n",
       "      <td>No</td>\n",
       "      <td>869</td>\n",
       "      <td>17</td>\n",
       "      <td>8</td>\n",
       "      <td>Thursday</td>\n",
       "      <td>Friday</td>\n",
       "      <td>2019-02-28</td>\n",
       "      <td>2019-02-28</td>\n",
       "    </tr>\n",
       "    <tr>\n",
       "      <th>1</th>\n",
       "      <td>42521</td>\n",
       "      <td>2019-02-28 18:53:21.789</td>\n",
       "      <td>2019-03-01 06:42:03.056</td>\n",
       "      <td>23.0</td>\n",
       "      <td>The Embarcadero at Steuart St</td>\n",
       "      <td>37.791464</td>\n",
       "      <td>-122.391034</td>\n",
       "      <td>81.0</td>\n",
       "      <td>Berry St at 4th St</td>\n",
       "      <td>37.775880</td>\n",
       "      <td>...</td>\n",
       "      <td>NaN</td>\n",
       "      <td>NaN</td>\n",
       "      <td>No</td>\n",
       "      <td>708</td>\n",
       "      <td>18</td>\n",
       "      <td>6</td>\n",
       "      <td>Thursday</td>\n",
       "      <td>Friday</td>\n",
       "      <td>2019-02-28</td>\n",
       "      <td>2019-02-28</td>\n",
       "    </tr>\n",
       "    <tr>\n",
       "      <th>2</th>\n",
       "      <td>61854</td>\n",
       "      <td>2019-02-28 12:13:13.218</td>\n",
       "      <td>2019-03-01 05:24:08.146</td>\n",
       "      <td>86.0</td>\n",
       "      <td>Market St at Dolores St</td>\n",
       "      <td>37.769305</td>\n",
       "      <td>-122.426826</td>\n",
       "      <td>3.0</td>\n",
       "      <td>Powell St BART Station (Market St at 4th St)</td>\n",
       "      <td>37.786375</td>\n",
       "      <td>...</td>\n",
       "      <td>1972.0</td>\n",
       "      <td>Male</td>\n",
       "      <td>No</td>\n",
       "      <td>1030</td>\n",
       "      <td>12</td>\n",
       "      <td>5</td>\n",
       "      <td>Thursday</td>\n",
       "      <td>Friday</td>\n",
       "      <td>2019-02-28</td>\n",
       "      <td>2019-02-28</td>\n",
       "    </tr>\n",
       "    <tr>\n",
       "      <th>3</th>\n",
       "      <td>36490</td>\n",
       "      <td>2019-02-28 17:54:26.010</td>\n",
       "      <td>2019-03-01 04:02:36.842</td>\n",
       "      <td>375.0</td>\n",
       "      <td>Grove St at Masonic Ave</td>\n",
       "      <td>37.774836</td>\n",
       "      <td>-122.446546</td>\n",
       "      <td>70.0</td>\n",
       "      <td>Central Ave at Fell St</td>\n",
       "      <td>37.773311</td>\n",
       "      <td>...</td>\n",
       "      <td>1989.0</td>\n",
       "      <td>Other</td>\n",
       "      <td>No</td>\n",
       "      <td>608</td>\n",
       "      <td>17</td>\n",
       "      <td>4</td>\n",
       "      <td>Thursday</td>\n",
       "      <td>Friday</td>\n",
       "      <td>2019-02-28</td>\n",
       "      <td>2019-02-28</td>\n",
       "    </tr>\n",
       "    <tr>\n",
       "      <th>4</th>\n",
       "      <td>1585</td>\n",
       "      <td>2019-02-28 23:54:18.549</td>\n",
       "      <td>2019-03-01 00:20:44.074</td>\n",
       "      <td>7.0</td>\n",
       "      <td>Frank H Ogawa Plaza</td>\n",
       "      <td>37.804562</td>\n",
       "      <td>-122.271738</td>\n",
       "      <td>222.0</td>\n",
       "      <td>10th Ave at E 15th St</td>\n",
       "      <td>37.792714</td>\n",
       "      <td>...</td>\n",
       "      <td>1974.0</td>\n",
       "      <td>Male</td>\n",
       "      <td>Yes</td>\n",
       "      <td>26</td>\n",
       "      <td>23</td>\n",
       "      <td>0</td>\n",
       "      <td>Thursday</td>\n",
       "      <td>Friday</td>\n",
       "      <td>2019-02-28</td>\n",
       "      <td>2019-02-28</td>\n",
       "    </tr>\n",
       "  </tbody>\n",
       "</table>\n",
       "<p>5 rows × 23 columns</p>\n",
       "</div>"
      ],
      "text/plain": [
       "   duration_sec              start_time                end_time  \\\n",
       "0         52185 2019-02-28 17:32:10.145 2019-03-01 08:01:55.975   \n",
       "1         42521 2019-02-28 18:53:21.789 2019-03-01 06:42:03.056   \n",
       "2         61854 2019-02-28 12:13:13.218 2019-03-01 05:24:08.146   \n",
       "3         36490 2019-02-28 17:54:26.010 2019-03-01 04:02:36.842   \n",
       "4          1585 2019-02-28 23:54:18.549 2019-03-01 00:20:44.074   \n",
       "\n",
       "   start_station_id                                start_station_name  \\\n",
       "0              21.0  Montgomery St BART Station (Market St at 2nd St)   \n",
       "1              23.0                     The Embarcadero at Steuart St   \n",
       "2              86.0                           Market St at Dolores St   \n",
       "3             375.0                           Grove St at Masonic Ave   \n",
       "4               7.0                               Frank H Ogawa Plaza   \n",
       "\n",
       "   start_station_latitude  start_station_longitude  end_station_id  \\\n",
       "0               37.789625              -122.400811            13.0   \n",
       "1               37.791464              -122.391034            81.0   \n",
       "2               37.769305              -122.426826             3.0   \n",
       "3               37.774836              -122.446546            70.0   \n",
       "4               37.804562              -122.271738           222.0   \n",
       "\n",
       "                               end_station_name  end_station_latitude  ...  \\\n",
       "0                Commercial St at Montgomery St             37.794231  ...   \n",
       "1                            Berry St at 4th St             37.775880  ...   \n",
       "2  Powell St BART Station (Market St at 4th St)             37.786375  ...   \n",
       "3                        Central Ave at Fell St             37.773311  ...   \n",
       "4                         10th Ave at E 15th St             37.792714  ...   \n",
       "\n",
       "   member_birth_year member_gender bike_share_for_all_trip  duration_mins  \\\n",
       "0             1984.0          Male                      No            869   \n",
       "1                NaN           NaN                      No            708   \n",
       "2             1972.0          Male                      No           1030   \n",
       "3             1989.0         Other                      No            608   \n",
       "4             1974.0          Male                     Yes             26   \n",
       "\n",
       "  start_hour end_hour  start_day  end_day  start_date   end_date  \n",
       "0         17        8   Thursday   Friday  2019-02-28 2019-02-28  \n",
       "1         18        6   Thursday   Friday  2019-02-28 2019-02-28  \n",
       "2         12        5   Thursday   Friday  2019-02-28 2019-02-28  \n",
       "3         17        4   Thursday   Friday  2019-02-28 2019-02-28  \n",
       "4         23        0   Thursday   Friday  2019-02-28 2019-02-28  \n",
       "\n",
       "[5 rows x 23 columns]"
      ]
     },
     "execution_count": 60,
     "metadata": {},
     "output_type": "execute_result"
    }
   ],
   "source": [
    "# Extract day of the week from start_time and end_time columns\n",
    "\n",
    "bike_df['start_day'] = bike_df['start_time'].dt.strftime('%A')\n",
    "bike_df['end_day'] = bike_df['end_time'].dt.strftime('%A')\n",
    "\n",
    "bike_df['start_date'] = pd.to_datetime(bike_df['start_time'].dt.strftime('%Y-%m-%d'))\n",
    "bike_df['end_date'] = pd.to_datetime(bike_df['start_time'].dt.strftime('%Y-%m-%d'))\n",
    "\n",
    "\n",
    "bike_df.head()"
   ]
  },
  {
   "cell_type": "code",
   "execution_count": 61,
   "metadata": {},
   "outputs": [],
   "source": [
    "#drop empty rows to be able to convert the member_birth_year column\n",
    "\n",
    "bike_df.dropna(inplace = True)"
   ]
  },
  {
   "cell_type": "code",
   "execution_count": 62,
   "metadata": {},
   "outputs": [
    {
     "name": "stdout",
     "output_type": "stream",
     "text": [
      "<class 'pandas.core.frame.DataFrame'>\n",
      "Int64Index: 174952 entries, 0 to 183411\n",
      "Data columns (total 24 columns):\n",
      " #   Column                   Non-Null Count   Dtype         \n",
      "---  ------                   --------------   -----         \n",
      " 0   duration_sec             174952 non-null  int64         \n",
      " 1   start_time               174952 non-null  datetime64[ns]\n",
      " 2   end_time                 174952 non-null  datetime64[ns]\n",
      " 3   start_station_id         174952 non-null  float64       \n",
      " 4   start_station_name       174952 non-null  object        \n",
      " 5   start_station_latitude   174952 non-null  float64       \n",
      " 6   start_station_longitude  174952 non-null  float64       \n",
      " 7   end_station_id           174952 non-null  float64       \n",
      " 8   end_station_name         174952 non-null  object        \n",
      " 9   end_station_latitude     174952 non-null  float64       \n",
      " 10  end_station_longitude    174952 non-null  float64       \n",
      " 11  bike_id                  174952 non-null  object        \n",
      " 12  user_type                174952 non-null  object        \n",
      " 13  member_birth_year        174952 non-null  float64       \n",
      " 14  member_gender            174952 non-null  object        \n",
      " 15  bike_share_for_all_trip  174952 non-null  object        \n",
      " 16  duration_mins            174952 non-null  int32         \n",
      " 17  start_hour               174952 non-null  int64         \n",
      " 18  end_hour                 174952 non-null  int64         \n",
      " 19  start_day                174952 non-null  object        \n",
      " 20  end_day                  174952 non-null  object        \n",
      " 21  start_date               174952 non-null  datetime64[ns]\n",
      " 22  end_date                 174952 non-null  datetime64[ns]\n",
      " 23  member_age               174952 non-null  int32         \n",
      "dtypes: datetime64[ns](4), float64(7), int32(2), int64(3), object(8)\n",
      "memory usage: 32.0+ MB\n"
     ]
    }
   ],
   "source": [
    "# Extract the ages of members from member_birth_year column.\n",
    "# Since their birth year was recorded in 2019,we will use that as reference\n",
    "\n",
    "bike_df['member_age'] = 2019 - bike_df['member_birth_year'].astype(int)\n",
    "bike_df.info()"
   ]
  },
  {
   "cell_type": "code",
   "execution_count": 63,
   "metadata": {},
   "outputs": [
    {
     "data": {
      "text/html": [
       "<div>\n",
       "<style scoped>\n",
       "    .dataframe tbody tr th:only-of-type {\n",
       "        vertical-align: middle;\n",
       "    }\n",
       "\n",
       "    .dataframe tbody tr th {\n",
       "        vertical-align: top;\n",
       "    }\n",
       "\n",
       "    .dataframe thead th {\n",
       "        text-align: right;\n",
       "    }\n",
       "</style>\n",
       "<table border=\"1\" class=\"dataframe\">\n",
       "  <thead>\n",
       "    <tr style=\"text-align: right;\">\n",
       "      <th></th>\n",
       "      <th>duration_sec</th>\n",
       "      <th>start_time</th>\n",
       "      <th>end_time</th>\n",
       "      <th>start_station_id</th>\n",
       "      <th>start_station_name</th>\n",
       "      <th>start_station_latitude</th>\n",
       "      <th>start_station_longitude</th>\n",
       "      <th>end_station_id</th>\n",
       "      <th>end_station_name</th>\n",
       "      <th>end_station_latitude</th>\n",
       "      <th>...</th>\n",
       "      <th>member_gender</th>\n",
       "      <th>bike_share_for_all_trip</th>\n",
       "      <th>duration_mins</th>\n",
       "      <th>start_hour</th>\n",
       "      <th>end_hour</th>\n",
       "      <th>start_day</th>\n",
       "      <th>end_day</th>\n",
       "      <th>start_date</th>\n",
       "      <th>end_date</th>\n",
       "      <th>member_age</th>\n",
       "    </tr>\n",
       "  </thead>\n",
       "  <tbody>\n",
       "    <tr>\n",
       "      <th>0</th>\n",
       "      <td>52185</td>\n",
       "      <td>2019-02-28 17:32:10.145</td>\n",
       "      <td>2019-03-01 08:01:55.975</td>\n",
       "      <td>21.0</td>\n",
       "      <td>Montgomery St BART Station (Market St at 2nd St)</td>\n",
       "      <td>37.789625</td>\n",
       "      <td>-122.400811</td>\n",
       "      <td>13.0</td>\n",
       "      <td>Commercial St at Montgomery St</td>\n",
       "      <td>37.794231</td>\n",
       "      <td>...</td>\n",
       "      <td>Male</td>\n",
       "      <td>No</td>\n",
       "      <td>869</td>\n",
       "      <td>17</td>\n",
       "      <td>8</td>\n",
       "      <td>Thursday</td>\n",
       "      <td>Friday</td>\n",
       "      <td>2019-02-28</td>\n",
       "      <td>2019-02-28</td>\n",
       "      <td>35</td>\n",
       "    </tr>\n",
       "    <tr>\n",
       "      <th>2</th>\n",
       "      <td>61854</td>\n",
       "      <td>2019-02-28 12:13:13.218</td>\n",
       "      <td>2019-03-01 05:24:08.146</td>\n",
       "      <td>86.0</td>\n",
       "      <td>Market St at Dolores St</td>\n",
       "      <td>37.769305</td>\n",
       "      <td>-122.426826</td>\n",
       "      <td>3.0</td>\n",
       "      <td>Powell St BART Station (Market St at 4th St)</td>\n",
       "      <td>37.786375</td>\n",
       "      <td>...</td>\n",
       "      <td>Male</td>\n",
       "      <td>No</td>\n",
       "      <td>1030</td>\n",
       "      <td>12</td>\n",
       "      <td>5</td>\n",
       "      <td>Thursday</td>\n",
       "      <td>Friday</td>\n",
       "      <td>2019-02-28</td>\n",
       "      <td>2019-02-28</td>\n",
       "      <td>47</td>\n",
       "    </tr>\n",
       "    <tr>\n",
       "      <th>3</th>\n",
       "      <td>36490</td>\n",
       "      <td>2019-02-28 17:54:26.010</td>\n",
       "      <td>2019-03-01 04:02:36.842</td>\n",
       "      <td>375.0</td>\n",
       "      <td>Grove St at Masonic Ave</td>\n",
       "      <td>37.774836</td>\n",
       "      <td>-122.446546</td>\n",
       "      <td>70.0</td>\n",
       "      <td>Central Ave at Fell St</td>\n",
       "      <td>37.773311</td>\n",
       "      <td>...</td>\n",
       "      <td>Other</td>\n",
       "      <td>No</td>\n",
       "      <td>608</td>\n",
       "      <td>17</td>\n",
       "      <td>4</td>\n",
       "      <td>Thursday</td>\n",
       "      <td>Friday</td>\n",
       "      <td>2019-02-28</td>\n",
       "      <td>2019-02-28</td>\n",
       "      <td>30</td>\n",
       "    </tr>\n",
       "    <tr>\n",
       "      <th>4</th>\n",
       "      <td>1585</td>\n",
       "      <td>2019-02-28 23:54:18.549</td>\n",
       "      <td>2019-03-01 00:20:44.074</td>\n",
       "      <td>7.0</td>\n",
       "      <td>Frank H Ogawa Plaza</td>\n",
       "      <td>37.804562</td>\n",
       "      <td>-122.271738</td>\n",
       "      <td>222.0</td>\n",
       "      <td>10th Ave at E 15th St</td>\n",
       "      <td>37.792714</td>\n",
       "      <td>...</td>\n",
       "      <td>Male</td>\n",
       "      <td>Yes</td>\n",
       "      <td>26</td>\n",
       "      <td>23</td>\n",
       "      <td>0</td>\n",
       "      <td>Thursday</td>\n",
       "      <td>Friday</td>\n",
       "      <td>2019-02-28</td>\n",
       "      <td>2019-02-28</td>\n",
       "      <td>45</td>\n",
       "    </tr>\n",
       "    <tr>\n",
       "      <th>5</th>\n",
       "      <td>1793</td>\n",
       "      <td>2019-02-28 23:49:58.632</td>\n",
       "      <td>2019-03-01 00:19:51.760</td>\n",
       "      <td>93.0</td>\n",
       "      <td>4th St at Mission Bay Blvd S</td>\n",
       "      <td>37.770407</td>\n",
       "      <td>-122.391198</td>\n",
       "      <td>323.0</td>\n",
       "      <td>Broadway at Kearny</td>\n",
       "      <td>37.798014</td>\n",
       "      <td>...</td>\n",
       "      <td>Male</td>\n",
       "      <td>No</td>\n",
       "      <td>29</td>\n",
       "      <td>23</td>\n",
       "      <td>0</td>\n",
       "      <td>Thursday</td>\n",
       "      <td>Friday</td>\n",
       "      <td>2019-02-28</td>\n",
       "      <td>2019-02-28</td>\n",
       "      <td>60</td>\n",
       "    </tr>\n",
       "  </tbody>\n",
       "</table>\n",
       "<p>5 rows × 24 columns</p>\n",
       "</div>"
      ],
      "text/plain": [
       "   duration_sec              start_time                end_time  \\\n",
       "0         52185 2019-02-28 17:32:10.145 2019-03-01 08:01:55.975   \n",
       "2         61854 2019-02-28 12:13:13.218 2019-03-01 05:24:08.146   \n",
       "3         36490 2019-02-28 17:54:26.010 2019-03-01 04:02:36.842   \n",
       "4          1585 2019-02-28 23:54:18.549 2019-03-01 00:20:44.074   \n",
       "5          1793 2019-02-28 23:49:58.632 2019-03-01 00:19:51.760   \n",
       "\n",
       "   start_station_id                                start_station_name  \\\n",
       "0              21.0  Montgomery St BART Station (Market St at 2nd St)   \n",
       "2              86.0                           Market St at Dolores St   \n",
       "3             375.0                           Grove St at Masonic Ave   \n",
       "4               7.0                               Frank H Ogawa Plaza   \n",
       "5              93.0                      4th St at Mission Bay Blvd S   \n",
       "\n",
       "   start_station_latitude  start_station_longitude  end_station_id  \\\n",
       "0               37.789625              -122.400811            13.0   \n",
       "2               37.769305              -122.426826             3.0   \n",
       "3               37.774836              -122.446546            70.0   \n",
       "4               37.804562              -122.271738           222.0   \n",
       "5               37.770407              -122.391198           323.0   \n",
       "\n",
       "                               end_station_name  end_station_latitude  ...  \\\n",
       "0                Commercial St at Montgomery St             37.794231  ...   \n",
       "2  Powell St BART Station (Market St at 4th St)             37.786375  ...   \n",
       "3                        Central Ave at Fell St             37.773311  ...   \n",
       "4                         10th Ave at E 15th St             37.792714  ...   \n",
       "5                            Broadway at Kearny             37.798014  ...   \n",
       "\n",
       "   member_gender bike_share_for_all_trip duration_mins  start_hour end_hour  \\\n",
       "0           Male                      No           869          17        8   \n",
       "2           Male                      No          1030          12        5   \n",
       "3          Other                      No           608          17        4   \n",
       "4           Male                     Yes            26          23        0   \n",
       "5           Male                      No            29          23        0   \n",
       "\n",
       "  start_day  end_day  start_date   end_date member_age  \n",
       "0  Thursday   Friday  2019-02-28 2019-02-28         35  \n",
       "2  Thursday   Friday  2019-02-28 2019-02-28         47  \n",
       "3  Thursday   Friday  2019-02-28 2019-02-28         30  \n",
       "4  Thursday   Friday  2019-02-28 2019-02-28         45  \n",
       "5  Thursday   Friday  2019-02-28 2019-02-28         60  \n",
       "\n",
       "[5 rows x 24 columns]"
      ]
     },
     "execution_count": 63,
     "metadata": {},
     "output_type": "execute_result"
    }
   ],
   "source": [
    "bike_df.head()"
   ]
  },
  {
   "cell_type": "code",
   "execution_count": 64,
   "metadata": {},
   "outputs": [],
   "source": [
    "#drop columns not necessary for analysis\n",
    "drop_columns = ['duration_sec','end_time','start_station_longitude','start_station_latitude','start_station_id','end_station_id',\n",
    "          'end_station_longitude','end_station_latitude','member_birth_year','start_time']\n",
    "bike_df.drop(drop_columns,axis = 1, inplace = True)"
   ]
  },
  {
   "cell_type": "code",
   "execution_count": 65,
   "metadata": {},
   "outputs": [
    {
     "name": "stdout",
     "output_type": "stream",
     "text": [
      "<class 'pandas.core.frame.DataFrame'>\n",
      "Int64Index: 174952 entries, 0 to 183411\n",
      "Data columns (total 14 columns):\n",
      " #   Column                   Non-Null Count   Dtype         \n",
      "---  ------                   --------------   -----         \n",
      " 0   start_station_name       174952 non-null  object        \n",
      " 1   end_station_name         174952 non-null  object        \n",
      " 2   bike_id                  174952 non-null  object        \n",
      " 3   user_type                174952 non-null  object        \n",
      " 4   member_gender            174952 non-null  object        \n",
      " 5   bike_share_for_all_trip  174952 non-null  object        \n",
      " 6   duration_mins            174952 non-null  int32         \n",
      " 7   start_hour               174952 non-null  int64         \n",
      " 8   end_hour                 174952 non-null  int64         \n",
      " 9   start_day                174952 non-null  object        \n",
      " 10  end_day                  174952 non-null  object        \n",
      " 11  start_date               174952 non-null  datetime64[ns]\n",
      " 12  end_date                 174952 non-null  datetime64[ns]\n",
      " 13  member_age               174952 non-null  int32         \n",
      "dtypes: datetime64[ns](2), int32(2), int64(2), object(8)\n",
      "memory usage: 18.7+ MB\n"
     ]
    }
   ],
   "source": [
    "bike_df.info()"
   ]
  },
  {
   "cell_type": "code",
   "execution_count": 66,
   "metadata": {},
   "outputs": [
    {
     "data": {
      "text/html": [
       "<div>\n",
       "<style scoped>\n",
       "    .dataframe tbody tr th:only-of-type {\n",
       "        vertical-align: middle;\n",
       "    }\n",
       "\n",
       "    .dataframe tbody tr th {\n",
       "        vertical-align: top;\n",
       "    }\n",
       "\n",
       "    .dataframe thead th {\n",
       "        text-align: right;\n",
       "    }\n",
       "</style>\n",
       "<table border=\"1\" class=\"dataframe\">\n",
       "  <thead>\n",
       "    <tr style=\"text-align: right;\">\n",
       "      <th></th>\n",
       "      <th>start_station_name</th>\n",
       "      <th>end_station_name</th>\n",
       "      <th>bike_id</th>\n",
       "      <th>user_type</th>\n",
       "      <th>member_gender</th>\n",
       "      <th>bike_share_for_all_trip</th>\n",
       "      <th>duration_mins</th>\n",
       "      <th>start_hour</th>\n",
       "      <th>end_hour</th>\n",
       "      <th>start_day</th>\n",
       "      <th>end_day</th>\n",
       "      <th>start_date</th>\n",
       "      <th>end_date</th>\n",
       "      <th>member_age</th>\n",
       "    </tr>\n",
       "  </thead>\n",
       "  <tbody>\n",
       "    <tr>\n",
       "      <th>0</th>\n",
       "      <td>Montgomery St BART Station (Market St at 2nd St)</td>\n",
       "      <td>Commercial St at Montgomery St</td>\n",
       "      <td>4902</td>\n",
       "      <td>Customer</td>\n",
       "      <td>Male</td>\n",
       "      <td>No</td>\n",
       "      <td>869</td>\n",
       "      <td>17</td>\n",
       "      <td>8</td>\n",
       "      <td>Thursday</td>\n",
       "      <td>Friday</td>\n",
       "      <td>2019-02-28</td>\n",
       "      <td>2019-02-28</td>\n",
       "      <td>35</td>\n",
       "    </tr>\n",
       "    <tr>\n",
       "      <th>2</th>\n",
       "      <td>Market St at Dolores St</td>\n",
       "      <td>Powell St BART Station (Market St at 4th St)</td>\n",
       "      <td>5905</td>\n",
       "      <td>Customer</td>\n",
       "      <td>Male</td>\n",
       "      <td>No</td>\n",
       "      <td>1030</td>\n",
       "      <td>12</td>\n",
       "      <td>5</td>\n",
       "      <td>Thursday</td>\n",
       "      <td>Friday</td>\n",
       "      <td>2019-02-28</td>\n",
       "      <td>2019-02-28</td>\n",
       "      <td>47</td>\n",
       "    </tr>\n",
       "    <tr>\n",
       "      <th>3</th>\n",
       "      <td>Grove St at Masonic Ave</td>\n",
       "      <td>Central Ave at Fell St</td>\n",
       "      <td>6638</td>\n",
       "      <td>Subscriber</td>\n",
       "      <td>Other</td>\n",
       "      <td>No</td>\n",
       "      <td>608</td>\n",
       "      <td>17</td>\n",
       "      <td>4</td>\n",
       "      <td>Thursday</td>\n",
       "      <td>Friday</td>\n",
       "      <td>2019-02-28</td>\n",
       "      <td>2019-02-28</td>\n",
       "      <td>30</td>\n",
       "    </tr>\n",
       "    <tr>\n",
       "      <th>4</th>\n",
       "      <td>Frank H Ogawa Plaza</td>\n",
       "      <td>10th Ave at E 15th St</td>\n",
       "      <td>4898</td>\n",
       "      <td>Subscriber</td>\n",
       "      <td>Male</td>\n",
       "      <td>Yes</td>\n",
       "      <td>26</td>\n",
       "      <td>23</td>\n",
       "      <td>0</td>\n",
       "      <td>Thursday</td>\n",
       "      <td>Friday</td>\n",
       "      <td>2019-02-28</td>\n",
       "      <td>2019-02-28</td>\n",
       "      <td>45</td>\n",
       "    </tr>\n",
       "    <tr>\n",
       "      <th>5</th>\n",
       "      <td>4th St at Mission Bay Blvd S</td>\n",
       "      <td>Broadway at Kearny</td>\n",
       "      <td>5200</td>\n",
       "      <td>Subscriber</td>\n",
       "      <td>Male</td>\n",
       "      <td>No</td>\n",
       "      <td>29</td>\n",
       "      <td>23</td>\n",
       "      <td>0</td>\n",
       "      <td>Thursday</td>\n",
       "      <td>Friday</td>\n",
       "      <td>2019-02-28</td>\n",
       "      <td>2019-02-28</td>\n",
       "      <td>60</td>\n",
       "    </tr>\n",
       "  </tbody>\n",
       "</table>\n",
       "</div>"
      ],
      "text/plain": [
       "                                 start_station_name  \\\n",
       "0  Montgomery St BART Station (Market St at 2nd St)   \n",
       "2                           Market St at Dolores St   \n",
       "3                           Grove St at Masonic Ave   \n",
       "4                               Frank H Ogawa Plaza   \n",
       "5                      4th St at Mission Bay Blvd S   \n",
       "\n",
       "                               end_station_name bike_id   user_type  \\\n",
       "0                Commercial St at Montgomery St    4902    Customer   \n",
       "2  Powell St BART Station (Market St at 4th St)    5905    Customer   \n",
       "3                        Central Ave at Fell St    6638  Subscriber   \n",
       "4                         10th Ave at E 15th St    4898  Subscriber   \n",
       "5                            Broadway at Kearny    5200  Subscriber   \n",
       "\n",
       "  member_gender bike_share_for_all_trip  duration_mins  start_hour  end_hour  \\\n",
       "0          Male                      No            869          17         8   \n",
       "2          Male                      No           1030          12         5   \n",
       "3         Other                      No            608          17         4   \n",
       "4          Male                     Yes             26          23         0   \n",
       "5          Male                      No             29          23         0   \n",
       "\n",
       "  start_day end_day start_date   end_date  member_age  \n",
       "0  Thursday  Friday 2019-02-28 2019-02-28          35  \n",
       "2  Thursday  Friday 2019-02-28 2019-02-28          47  \n",
       "3  Thursday  Friday 2019-02-28 2019-02-28          30  \n",
       "4  Thursday  Friday 2019-02-28 2019-02-28          45  \n",
       "5  Thursday  Friday 2019-02-28 2019-02-28          60  "
      ]
     },
     "execution_count": 66,
     "metadata": {},
     "output_type": "execute_result"
    }
   ],
   "source": [
    "bike_df.head()"
   ]
  },
  {
   "cell_type": "code",
   "execution_count": 67,
   "metadata": {},
   "outputs": [
    {
     "data": {
      "text/html": [
       "<div>\n",
       "<style scoped>\n",
       "    .dataframe tbody tr th:only-of-type {\n",
       "        vertical-align: middle;\n",
       "    }\n",
       "\n",
       "    .dataframe tbody tr th {\n",
       "        vertical-align: top;\n",
       "    }\n",
       "\n",
       "    .dataframe thead th {\n",
       "        text-align: right;\n",
       "    }\n",
       "</style>\n",
       "<table border=\"1\" class=\"dataframe\">\n",
       "  <thead>\n",
       "    <tr style=\"text-align: right;\">\n",
       "      <th></th>\n",
       "      <th>duration_mins</th>\n",
       "      <th>start_hour</th>\n",
       "      <th>end_hour</th>\n",
       "      <th>member_age</th>\n",
       "    </tr>\n",
       "  </thead>\n",
       "  <tbody>\n",
       "    <tr>\n",
       "      <th>count</th>\n",
       "      <td>174952.000000</td>\n",
       "      <td>174952.000000</td>\n",
       "      <td>174952.000000</td>\n",
       "      <td>174952.000000</td>\n",
       "    </tr>\n",
       "    <tr>\n",
       "      <th>mean</th>\n",
       "      <td>11.241461</td>\n",
       "      <td>13.456165</td>\n",
       "      <td>13.609533</td>\n",
       "      <td>34.196865</td>\n",
       "    </tr>\n",
       "    <tr>\n",
       "      <th>std</th>\n",
       "      <td>27.371269</td>\n",
       "      <td>4.734282</td>\n",
       "      <td>4.748029</td>\n",
       "      <td>10.118731</td>\n",
       "    </tr>\n",
       "    <tr>\n",
       "      <th>min</th>\n",
       "      <td>1.000000</td>\n",
       "      <td>0.000000</td>\n",
       "      <td>0.000000</td>\n",
       "      <td>18.000000</td>\n",
       "    </tr>\n",
       "    <tr>\n",
       "      <th>25%</th>\n",
       "      <td>5.000000</td>\n",
       "      <td>9.000000</td>\n",
       "      <td>9.000000</td>\n",
       "      <td>27.000000</td>\n",
       "    </tr>\n",
       "    <tr>\n",
       "      <th>50%</th>\n",
       "      <td>8.000000</td>\n",
       "      <td>14.000000</td>\n",
       "      <td>14.000000</td>\n",
       "      <td>32.000000</td>\n",
       "    </tr>\n",
       "    <tr>\n",
       "      <th>75%</th>\n",
       "      <td>13.000000</td>\n",
       "      <td>17.000000</td>\n",
       "      <td>18.000000</td>\n",
       "      <td>39.000000</td>\n",
       "    </tr>\n",
       "    <tr>\n",
       "      <th>max</th>\n",
       "      <td>1409.000000</td>\n",
       "      <td>23.000000</td>\n",
       "      <td>23.000000</td>\n",
       "      <td>141.000000</td>\n",
       "    </tr>\n",
       "  </tbody>\n",
       "</table>\n",
       "</div>"
      ],
      "text/plain": [
       "       duration_mins     start_hour       end_hour     member_age\n",
       "count  174952.000000  174952.000000  174952.000000  174952.000000\n",
       "mean       11.241461      13.456165      13.609533      34.196865\n",
       "std        27.371269       4.734282       4.748029      10.118731\n",
       "min         1.000000       0.000000       0.000000      18.000000\n",
       "25%         5.000000       9.000000       9.000000      27.000000\n",
       "50%         8.000000      14.000000      14.000000      32.000000\n",
       "75%        13.000000      17.000000      18.000000      39.000000\n",
       "max      1409.000000      23.000000      23.000000     141.000000"
      ]
     },
     "execution_count": 67,
     "metadata": {},
     "output_type": "execute_result"
    }
   ],
   "source": [
    "bike_df.describe()"
   ]
  },
  {
   "cell_type": "code",
   "execution_count": 68,
   "metadata": {},
   "outputs": [
    {
     "name": "stdout",
     "output_type": "stream",
     "text": [
      "<class 'pandas.core.frame.DataFrame'>\n",
      "Int64Index: 174952 entries, 0 to 183411\n",
      "Data columns (total 14 columns):\n",
      " #   Column                   Non-Null Count   Dtype         \n",
      "---  ------                   --------------   -----         \n",
      " 0   start_station_name       174952 non-null  object        \n",
      " 1   end_station_name         174952 non-null  object        \n",
      " 2   bike_id                  174952 non-null  object        \n",
      " 3   user_type                174952 non-null  object        \n",
      " 4   member_gender            174952 non-null  object        \n",
      " 5   bike_share_for_all_trip  174952 non-null  object        \n",
      " 6   duration_mins            174952 non-null  int32         \n",
      " 7   start_hour               174952 non-null  int64         \n",
      " 8   end_hour                 174952 non-null  int64         \n",
      " 9   start_day                174952 non-null  object        \n",
      " 10  end_day                  174952 non-null  object        \n",
      " 11  start_date               174952 non-null  datetime64[ns]\n",
      " 12  end_date                 174952 non-null  datetime64[ns]\n",
      " 13  member_age               174952 non-null  int32         \n",
      "dtypes: datetime64[ns](2), int32(2), int64(2), object(8)\n",
      "memory usage: 18.7+ MB\n"
     ]
    }
   ],
   "source": [
    "bike_df.info()"
   ]
  },
  {
   "cell_type": "markdown",
   "metadata": {},
   "source": [
    "### Summary of Data Wrangling"
   ]
  },
  {
   "cell_type": "markdown",
   "metadata": {},
   "source": [
    "\n",
    " There are 174952 observations and 14 features. Four variables(duration_mins, member_age,start_hour and end_hour) are numeric. Date variables are start_date and end_date whiles the rest of the variables are strings\n",
    "\n",
    "#### Features of Interest\n",
    "I am interested in investigating factors that characterize members of bike_share and relationship between them. Feautures like user_type,bike_share_for_all_trips will be of keen interest.\n",
    "I will explore how members contribute to the bike-share system:\n",
    "The distribution of ages of members.\n",
    "What group of  members there is and how they differ\n",
    "Average trip duration among these group etc\n",
    "\n",
    "\n",
    "I suggest features like member_age, member_gender and duration_mins,start_hour,start_day will support my investigations."
   ]
  },
  {
   "cell_type": "markdown",
   "metadata": {},
   "source": [
    "## Univariate Exploration\n",
    "\n",
    "#### Distribution  of ages.\n",
    "This histogram will show distribution of ages of members. We will know where most of the ages fall.\n"
   ]
  },
  {
   "cell_type": "code",
   "execution_count": 69,
   "metadata": {},
   "outputs": [
    {
     "data": {
      "image/png": "[encoded data removed]",
      "text/plain": [
       "<Figure size 720x360 with 1 Axes>"
      ]
     },
     "metadata": {
      "needs_background": "light"
     },
     "output_type": "display_data"
    }
   ],
   "source": [
    "#distribution of age\n",
    "plt.figure(figsize = (10,5))\n",
    "bins = np.arange(0,bike_df['member_age'].max() + 5,5)\n",
    "plt.hist(data = bike_df,x = 'member_age', bins = bins)\n",
    "plt.title(' Distribution of Ages');"
   ]
  },
  {
   "cell_type": "markdown",
   "metadata": {},
   "source": [
    "This column is highly skewed to the right with most ages falling  between 25 and 35. We have some extreme ages as well.We will explore this further with a box plot below"
   ]
  },
  {
   "cell_type": "code",
   "execution_count": 104,
   "metadata": {},
   "outputs": [
    {
     "data": {
      "image/png": "[encoded data removed]",
      "text/plain": [
       "<Figure size 720x360 with 1 Axes>"
      ]
     },
     "metadata": {
      "needs_background": "light"
     },
     "output_type": "display_data"
    }
   ],
   "source": [
    "\n",
    "def univariate_boxplots(data,feature):\n",
    "    \"\"\"\"\n",
    "    This creates univariate boxplots for my investigation.\n",
    "    \"\"\"\n",
    "    plt.figure(figsize = (10,5))\n",
    "    plot = sns.boxplot(data = data, x = feature)\n",
    "    feature  = feature.replace('_',' ')\n",
    "    plt.title(f'Distribution of {feature}'.title(),fontsize = 13,weight = 'bold')\n",
    "    plt.xlabel(feature.title(),fontsize = 10,weight = 'bold')\n",
    "    plt.ylabel(''.title(),fontsize = 10,weight = 'bold')\n",
    "    return plot\n",
    "\n",
    "    \n",
    "univariate_boxplots(bike_df, 'member_age');\n"
   ]
  },
  {
   "cell_type": "markdown",
   "metadata": {},
   "source": [
    "The median age is around 35 with outliers that go to 141 years.                                                 \n",
    "For my analysis I will filter out observations with ages above 80 years  due to inconsistency\n"
   ]
  },
  {
   "cell_type": "code",
   "execution_count": 71,
   "metadata": {},
   "outputs": [
    {
     "data": {
      "text/html": [
       "<div>\n",
       "<style scoped>\n",
       "    .dataframe tbody tr th:only-of-type {\n",
       "        vertical-align: middle;\n",
       "    }\n",
       "\n",
       "    .dataframe tbody tr th {\n",
       "        vertical-align: top;\n",
       "    }\n",
       "\n",
       "    .dataframe thead th {\n",
       "        text-align: right;\n",
       "    }\n",
       "</style>\n",
       "<table border=\"1\" class=\"dataframe\">\n",
       "  <thead>\n",
       "    <tr style=\"text-align: right;\">\n",
       "      <th></th>\n",
       "      <th>start_station_name</th>\n",
       "      <th>end_station_name</th>\n",
       "      <th>bike_id</th>\n",
       "      <th>user_type</th>\n",
       "      <th>member_gender</th>\n",
       "      <th>bike_share_for_all_trip</th>\n",
       "      <th>duration_mins</th>\n",
       "      <th>start_hour</th>\n",
       "      <th>end_hour</th>\n",
       "      <th>start_day</th>\n",
       "      <th>end_day</th>\n",
       "      <th>start_date</th>\n",
       "      <th>end_date</th>\n",
       "      <th>member_age</th>\n",
       "    </tr>\n",
       "  </thead>\n",
       "  <tbody>\n",
       "    <tr>\n",
       "      <th>0</th>\n",
       "      <td>Montgomery St BART Station (Market St at 2nd St)</td>\n",
       "      <td>Commercial St at Montgomery St</td>\n",
       "      <td>4902</td>\n",
       "      <td>Customer</td>\n",
       "      <td>Male</td>\n",
       "      <td>No</td>\n",
       "      <td>869</td>\n",
       "      <td>17</td>\n",
       "      <td>8</td>\n",
       "      <td>Thursday</td>\n",
       "      <td>Friday</td>\n",
       "      <td>2019-02-28</td>\n",
       "      <td>2019-02-28</td>\n",
       "      <td>35</td>\n",
       "    </tr>\n",
       "    <tr>\n",
       "      <th>2</th>\n",
       "      <td>Market St at Dolores St</td>\n",
       "      <td>Powell St BART Station (Market St at 4th St)</td>\n",
       "      <td>5905</td>\n",
       "      <td>Customer</td>\n",
       "      <td>Male</td>\n",
       "      <td>No</td>\n",
       "      <td>1030</td>\n",
       "      <td>12</td>\n",
       "      <td>5</td>\n",
       "      <td>Thursday</td>\n",
       "      <td>Friday</td>\n",
       "      <td>2019-02-28</td>\n",
       "      <td>2019-02-28</td>\n",
       "      <td>47</td>\n",
       "    </tr>\n",
       "    <tr>\n",
       "      <th>3</th>\n",
       "      <td>Grove St at Masonic Ave</td>\n",
       "      <td>Central Ave at Fell St</td>\n",
       "      <td>6638</td>\n",
       "      <td>Subscriber</td>\n",
       "      <td>Other</td>\n",
       "      <td>No</td>\n",
       "      <td>608</td>\n",
       "      <td>17</td>\n",
       "      <td>4</td>\n",
       "      <td>Thursday</td>\n",
       "      <td>Friday</td>\n",
       "      <td>2019-02-28</td>\n",
       "      <td>2019-02-28</td>\n",
       "      <td>30</td>\n",
       "    </tr>\n",
       "    <tr>\n",
       "      <th>4</th>\n",
       "      <td>Frank H Ogawa Plaza</td>\n",
       "      <td>10th Ave at E 15th St</td>\n",
       "      <td>4898</td>\n",
       "      <td>Subscriber</td>\n",
       "      <td>Male</td>\n",
       "      <td>Yes</td>\n",
       "      <td>26</td>\n",
       "      <td>23</td>\n",
       "      <td>0</td>\n",
       "      <td>Thursday</td>\n",
       "      <td>Friday</td>\n",
       "      <td>2019-02-28</td>\n",
       "      <td>2019-02-28</td>\n",
       "      <td>45</td>\n",
       "    </tr>\n",
       "    <tr>\n",
       "      <th>5</th>\n",
       "      <td>4th St at Mission Bay Blvd S</td>\n",
       "      <td>Broadway at Kearny</td>\n",
       "      <td>5200</td>\n",
       "      <td>Subscriber</td>\n",
       "      <td>Male</td>\n",
       "      <td>No</td>\n",
       "      <td>29</td>\n",
       "      <td>23</td>\n",
       "      <td>0</td>\n",
       "      <td>Thursday</td>\n",
       "      <td>Friday</td>\n",
       "      <td>2019-02-28</td>\n",
       "      <td>2019-02-28</td>\n",
       "      <td>60</td>\n",
       "    </tr>\n",
       "  </tbody>\n",
       "</table>\n",
       "</div>"
      ],
      "text/plain": [
       "                                 start_station_name  \\\n",
       "0  Montgomery St BART Station (Market St at 2nd St)   \n",
       "2                           Market St at Dolores St   \n",
       "3                           Grove St at Masonic Ave   \n",
       "4                               Frank H Ogawa Plaza   \n",
       "5                      4th St at Mission Bay Blvd S   \n",
       "\n",
       "                               end_station_name bike_id   user_type  \\\n",
       "0                Commercial St at Montgomery St    4902    Customer   \n",
       "2  Powell St BART Station (Market St at 4th St)    5905    Customer   \n",
       "3                        Central Ave at Fell St    6638  Subscriber   \n",
       "4                         10th Ave at E 15th St    4898  Subscriber   \n",
       "5                            Broadway at Kearny    5200  Subscriber   \n",
       "\n",
       "  member_gender bike_share_for_all_trip  duration_mins  start_hour  end_hour  \\\n",
       "0          Male                      No            869          17         8   \n",
       "2          Male                      No           1030          12         5   \n",
       "3         Other                      No            608          17         4   \n",
       "4          Male                     Yes             26          23         0   \n",
       "5          Male                      No             29          23         0   \n",
       "\n",
       "  start_day end_day start_date   end_date  member_age  \n",
       "0  Thursday  Friday 2019-02-28 2019-02-28          35  \n",
       "2  Thursday  Friday 2019-02-28 2019-02-28          47  \n",
       "3  Thursday  Friday 2019-02-28 2019-02-28          30  \n",
       "4  Thursday  Friday 2019-02-28 2019-02-28          45  \n",
       "5  Thursday  Friday 2019-02-28 2019-02-28          60  "
      ]
     },
     "execution_count": 71,
     "metadata": {},
     "output_type": "execute_result"
    }
   ],
   "source": [
    "#select observations with ages less than 80\n",
    "bike_df  = bike_df[bike_df['member_age'] < 80]\n",
    "bike_df.head()"
   ]
  },
  {
   "cell_type": "code",
   "execution_count": 72,
   "metadata": {},
   "outputs": [
    {
     "name": "stdout",
     "output_type": "stream",
     "text": [
      "<class 'pandas.core.frame.DataFrame'>\n",
      "Int64Index: 174749 entries, 0 to 183411\n",
      "Data columns (total 14 columns):\n",
      " #   Column                   Non-Null Count   Dtype         \n",
      "---  ------                   --------------   -----         \n",
      " 0   start_station_name       174749 non-null  object        \n",
      " 1   end_station_name         174749 non-null  object        \n",
      " 2   bike_id                  174749 non-null  object        \n",
      " 3   user_type                174749 non-null  object        \n",
      " 4   member_gender            174749 non-null  object        \n",
      " 5   bike_share_for_all_trip  174749 non-null  object        \n",
      " 6   duration_mins            174749 non-null  int32         \n",
      " 7   start_hour               174749 non-null  int64         \n",
      " 8   end_hour                 174749 non-null  int64         \n",
      " 9   start_day                174749 non-null  object        \n",
      " 10  end_day                  174749 non-null  object        \n",
      " 11  start_date               174749 non-null  datetime64[ns]\n",
      " 12  end_date                 174749 non-null  datetime64[ns]\n",
      " 13  member_age               174749 non-null  int32         \n",
      "dtypes: datetime64[ns](2), int32(2), int64(2), object(8)\n",
      "memory usage: 18.7+ MB\n"
     ]
    }
   ],
   "source": [
    "bike_df.info()"
   ]
  },
  {
   "cell_type": "code",
   "execution_count": 73,
   "metadata": {},
   "outputs": [
    {
     "name": "stdout",
     "output_type": "stream",
     "text": [
      "(174749, 14)\n"
     ]
    },
    {
     "data": {
      "text/html": [
       "<div>\n",
       "<style scoped>\n",
       "    .dataframe tbody tr th:only-of-type {\n",
       "        vertical-align: middle;\n",
       "    }\n",
       "\n",
       "    .dataframe tbody tr th {\n",
       "        vertical-align: top;\n",
       "    }\n",
       "\n",
       "    .dataframe thead th {\n",
       "        text-align: right;\n",
       "    }\n",
       "</style>\n",
       "<table border=\"1\" class=\"dataframe\">\n",
       "  <thead>\n",
       "    <tr style=\"text-align: right;\">\n",
       "      <th></th>\n",
       "      <th>duration_mins</th>\n",
       "      <th>start_hour</th>\n",
       "      <th>end_hour</th>\n",
       "      <th>member_age</th>\n",
       "    </tr>\n",
       "  </thead>\n",
       "  <tbody>\n",
       "    <tr>\n",
       "      <th>count</th>\n",
       "      <td>174749.000000</td>\n",
       "      <td>174749.000000</td>\n",
       "      <td>174749.000000</td>\n",
       "      <td>174749.000000</td>\n",
       "    </tr>\n",
       "    <tr>\n",
       "      <th>mean</th>\n",
       "      <td>11.246399</td>\n",
       "      <td>13.456106</td>\n",
       "      <td>13.609537</td>\n",
       "      <td>34.122335</td>\n",
       "    </tr>\n",
       "    <tr>\n",
       "      <th>std</th>\n",
       "      <td>27.385793</td>\n",
       "      <td>4.735567</td>\n",
       "      <td>4.749321</td>\n",
       "      <td>9.871342</td>\n",
       "    </tr>\n",
       "    <tr>\n",
       "      <th>min</th>\n",
       "      <td>1.000000</td>\n",
       "      <td>0.000000</td>\n",
       "      <td>0.000000</td>\n",
       "      <td>18.000000</td>\n",
       "    </tr>\n",
       "    <tr>\n",
       "      <th>25%</th>\n",
       "      <td>5.000000</td>\n",
       "      <td>9.000000</td>\n",
       "      <td>9.000000</td>\n",
       "      <td>27.000000</td>\n",
       "    </tr>\n",
       "    <tr>\n",
       "      <th>50%</th>\n",
       "      <td>8.000000</td>\n",
       "      <td>14.000000</td>\n",
       "      <td>14.000000</td>\n",
       "      <td>32.000000</td>\n",
       "    </tr>\n",
       "    <tr>\n",
       "      <th>75%</th>\n",
       "      <td>13.000000</td>\n",
       "      <td>17.000000</td>\n",
       "      <td>18.000000</td>\n",
       "      <td>39.000000</td>\n",
       "    </tr>\n",
       "    <tr>\n",
       "      <th>max</th>\n",
       "      <td>1409.000000</td>\n",
       "      <td>23.000000</td>\n",
       "      <td>23.000000</td>\n",
       "      <td>78.000000</td>\n",
       "    </tr>\n",
       "  </tbody>\n",
       "</table>\n",
       "</div>"
      ],
      "text/plain": [
       "       duration_mins     start_hour       end_hour     member_age\n",
       "count  174749.000000  174749.000000  174749.000000  174749.000000\n",
       "mean       11.246399      13.456106      13.609537      34.122335\n",
       "std        27.385793       4.735567       4.749321       9.871342\n",
       "min         1.000000       0.000000       0.000000      18.000000\n",
       "25%         5.000000       9.000000       9.000000      27.000000\n",
       "50%         8.000000      14.000000      14.000000      32.000000\n",
       "75%        13.000000      17.000000      18.000000      39.000000\n",
       "max      1409.000000      23.000000      23.000000      78.000000"
      ]
     },
     "execution_count": 73,
     "metadata": {},
     "output_type": "execute_result"
    }
   ],
   "source": [
    "print(bike_df.shape)\n",
    "bike_df.describe()"
   ]
  },
  {
   "cell_type": "code",
   "execution_count": 105,
   "metadata": {},
   "outputs": [
    {
     "data": {
      "image/png": "[encoded data removed]",
      "text/plain": [
       "<Figure size 720x360 with 1 Axes>"
      ]
     },
     "metadata": {
      "needs_background": "light"
     },
     "output_type": "display_data"
    }
   ],
   "source": [
    "#let's examine the distribution of ages again \n",
    "univariate_boxplots(bike_df, 'member_age');"
   ]
  },
  {
   "cell_type": "markdown",
   "metadata": {},
   "source": [
    "After limiting ages to below 80,our maximum age is 78.The median age has dropped a little from about 35 to 33"
   ]
  },
  {
   "cell_type": "code",
   "execution_count": 75,
   "metadata": {},
   "outputs": [],
   "source": [
    "bike_df.to_csv(\"cleaned_bike_df.csv\")"
   ]
  },
  {
   "cell_type": "markdown",
   "metadata": {},
   "source": [
    "#### Distribution of trip duration\n",
    "This will help us know the range where the most occuring trip duration fall.How many minutes do members' trip usually last."
   ]
  },
  {
   "cell_type": "code",
   "execution_count": 76,
   "metadata": {},
   "outputs": [
    {
     "data": {
      "image/png": "[encoded data removed]",
      "text/plain": [
       "<Figure size 720x360 with 1 Axes>"
      ]
     },
     "metadata": {
      "needs_background": "light"
     },
     "output_type": "display_data"
    }
   ],
   "source": [
    "#distribution of duration of bike rides\n",
    "plt.figure(figsize = (10,5))\n",
    "bins = np.arange(0,bike_df['duration_mins'].max()+5, 5)\n",
    "plt.xlim(0,120)\n",
    "plt.hist(data = bike_df, x = 'duration_mins', bins = bins)\n",
    "plt.xlabel ('Trip Duration')\n",
    "plt.title('Distribution of Trip Duration (minutes)',weight = 'bold');"
   ]
  },
  {
   "cell_type": "markdown",
   "metadata": {},
   "source": [
    "It seems most are short trips between 5 and 10 minutes although some members also do pretty longer trips."
   ]
  },
  {
   "cell_type": "markdown",
   "metadata": {},
   "source": [
    "#### Count of Members per Gender\n",
    "How many members are females, males or 'other' gender"
   ]
  },
  {
   "cell_type": "code",
   "execution_count": 77,
   "metadata": {},
   "outputs": [
    {
     "data": {
      "image/png": "[encoded data removed]",
      "text/plain": [
       "<Figure size 720x360 with 1 Axes>"
      ]
     },
     "metadata": {
      "needs_background": "light"
     },
     "output_type": "display_data"
    }
   ],
   "source": [
    "def unicountplot(data,feature,order):\n",
    "    plt.figure(figsize = (10,5))\n",
    "    plot = sns.countplot(data = data, x = feature,order =  order, color = sns.color_palette()[1])\n",
    "    feature  = feature.replace('_',' ')\n",
    "    plt.title(f'Count of {feature}'.title(),fontsize = 13,weight = 'bold')\n",
    "    plt.xlabel(feature.title(),fontsize = 10,weight = 'bold')\n",
    "    plt.ylabel(''.title(),fontsize = 10,weight = 'bold')\n",
    "    return plot\n",
    "unicountplot(bike_df,'member_gender',bike_df['member_gender'].value_counts().index);\n",
    "plt.ylabel('Number of Members',fontsize = 10,weight = 'bold');\n",
    "    "
   ]
  },
  {
   "cell_type": "markdown",
   "metadata": {},
   "source": [
    "Members of this bike share are mostly males.Their numbers are more than twice the Females."
   ]
  },
  {
   "cell_type": "markdown",
   "metadata": {},
   "source": [
    "#### Most frequently used bike\n",
    "This graph  will help us know the most used bike using the bike_id. Could there be any favorite bike for the members?"
   ]
  },
  {
   "cell_type": "code",
   "execution_count": 78,
   "metadata": {},
   "outputs": [
    {
     "data": {
      "image/png": "[encoded data removed]",
      "text/plain": [
       "<Figure size 1080x360 with 1 Axes>"
      ]
     },
     "metadata": {
      "needs_background": "light"
     },
     "output_type": "display_data"
    }
   ],
   "source": [
    "# most freguently used bike\n",
    "color = sns.color_palette()[1]\n",
    "plt.figure(figsize=(15,5))\n",
    "order = bike_df['bike_id'].value_counts()[:25].index\n",
    "sns.countplot(data = bike_df, x='bike_id', color=color, order = order)\n",
    "plt.title('Most Frequently used bikes');"
   ]
  },
  {
   "cell_type": "markdown",
   "metadata": {},
   "source": [
    "It seems most bikes have quite the same preference,although bike id '4794' is slightly above the others.I do not think members have favourites"
   ]
  },
  {
   "cell_type": "markdown",
   "metadata": {},
   "source": [
    "#### Proportion of members who are customers or subscribers\n",
    "There are two types of members:Customers and Subscribers. Let's see the proportions that constitutes each group"
   ]
  },
  {
   "cell_type": "code",
   "execution_count": 79,
   "metadata": {},
   "outputs": [
    {
     "data": {
      "text/plain": [
       "Subscriber    158196\n",
       "Customer       16553\n",
       "Name: user_type, dtype: int64"
      ]
     },
     "execution_count": 79,
     "metadata": {},
     "output_type": "execute_result"
    }
   ],
   "source": [
    "valuecount = bike_df['user_type'].value_counts()\n",
    "valuecount"
   ]
  },
  {
   "cell_type": "code",
   "execution_count": 80,
   "metadata": {},
   "outputs": [
    {
     "data": {
      "image/png": "[encoded data removed]",
      "text/plain": [
       "<Figure size 720x360 with 1 Axes>"
      ]
     },
     "metadata": {},
     "output_type": "display_data"
    }
   ],
   "source": [
    "my_explode =(0.05,0)\n",
    "plt.figure(figsize = (10,5))\n",
    "my_colours = ['blue','red']\n",
    "labels ='Subscriber','Customer'\n",
    "plt.pie(valuecount,labels = labels,autopct='%1.1f%%', colors = my_colours,explode = my_explode)\n",
    "plt.title('Proportion of members for Customers and Subscribers',fontsize = 14,weight = 'bold')\n",
    "plt.axis('equal');"
   ]
  },
  {
   "cell_type": "markdown",
   "metadata": {},
   "source": [
    "Subscribers make up 90.5% of members. Later, I will explore which of these groups use bike_share for all trips."
   ]
  },
  {
   "cell_type": "markdown",
   "metadata": {},
   "source": [
    "#### Proportion of members who use bike_share for all their trips \n",
    "There are members who use bike_share for all their trips and those that do not.                                               \n",
    "Let's find out each group's proportion"
   ]
  },
  {
   "cell_type": "code",
   "execution_count": 81,
   "metadata": {},
   "outputs": [
    {
     "data": {
      "text/plain": [
       "No     157457\n",
       "Yes     17292\n",
       "Name: bike_share_for_all_trip, dtype: int64"
      ]
     },
     "execution_count": 81,
     "metadata": {},
     "output_type": "execute_result"
    }
   ],
   "source": [
    "counts = bike_df['bike_share_for_all_trip'].value_counts()\n",
    "counts"
   ]
  },
  {
   "cell_type": "code",
   "execution_count": 82,
   "metadata": {},
   "outputs": [
    {
     "data": {
      "image/png": "[encoded data removed]",
      "text/plain": [
       "<Figure size 720x360 with 1 Axes>"
      ]
     },
     "metadata": {},
     "output_type": "display_data"
    }
   ],
   "source": [
    "plt.figure(figsize = (10,5))\n",
    "my_explode =(0,0.05)\n",
    "labels = 'No','Yes'\n",
    "plt.pie(counts,labels = labels,autopct='%1.1f%%',explode = my_explode)\n",
    "plt.title('Bike-Share For All Trips',fontsize = 14,weight = 'bold')\n",
    "plt.axis('equal');"
   ]
  },
  {
   "cell_type": "markdown",
   "metadata": {},
   "source": [
    "90.1% of members Do Not use bike_share for all trips."
   ]
  },
  {
   "cell_type": "markdown",
   "metadata": {},
   "source": [
    "#### Stations that record the most share \n",
    "Let's see which station recorded the most bike rides"
   ]
  },
  {
   "cell_type": "code",
   "execution_count": 83,
   "metadata": {},
   "outputs": [
    {
     "data": {
      "image/png": "[encoded data removed]",
      "text/plain": [
       "<Figure size 1080x360 with 1 Axes>"
      ]
     },
     "metadata": {
      "needs_background": "light"
     },
     "output_type": "display_data"
    }
   ],
   "source": [
    "plt.figure(figsize=(15,5))\n",
    "order = df['start_station_name'].value_counts()[:25].index\n",
    "plt.xticks(rotation=90)\n",
    "sns.countplot(data=bike_df, x='start_station_name', color='brown', order = order)\n",
    "plt.title('Stations that record most share rides',weight = 'bold');"
   ]
  },
  {
   "cell_type": "markdown",
   "metadata": {},
   "source": [
    "Members seem to start their trips at Market St at 10th St."
   ]
  },
  {
   "cell_type": "markdown",
   "metadata": {},
   "source": [
    "#### Rush hours for bike-share trips \n",
    "This histogram will show the range of time of the day that recorded the most bike rides"
   ]
  },
  {
   "cell_type": "code",
   "execution_count": 84,
   "metadata": {},
   "outputs": [
    {
     "data": {
      "image/png": "[encoded data removed]",
      "text/plain": [
       "<Figure size 720x360 with 1 Axes>"
      ]
     },
     "metadata": {
      "needs_background": "light"
     },
     "output_type": "display_data"
    }
   ],
   "source": [
    "plt.figure(figsize = (10,5))\n",
    "bins = np.arange(0,25, 1)\n",
    "plt.hist(data = bike_df, x = 'start_hour', bins = bins)\n",
    "plt.xlabel('Hours')\n",
    "plt.title('Distribution of Trip based on time of the day',weight = 'bold');"
   ]
  },
  {
   "cell_type": "markdown",
   "metadata": {},
   "source": [
    "The distribution of the hour of day is bimodal. Trips usually starts between 8-9am And between 5-6pm."
   ]
  },
  {
   "cell_type": "markdown",
   "metadata": {},
   "source": [
    "#### Days that record most trips\n",
    "What day of the week recorded the the highest bike rides"
   ]
  },
  {
   "cell_type": "code",
   "execution_count": 85,
   "metadata": {},
   "outputs": [
    {
     "data": {
      "image/png": "[encoded data removed]",
      "text/plain": [
       "<Figure size 1080x360 with 1 Axes>"
      ]
     },
     "metadata": {
      "needs_background": "light"
     },
     "output_type": "display_data"
    }
   ],
   "source": [
    "plt.figure(figsize=(15,5))\n",
    "order = ['Monday','Tuesday','Wednesday','Thursday','Friday','Saturday','Sunday']\n",
    "plt.xticks(rotation=15)\n",
    "sns.countplot(data=bike_df, x='start_day',color = 'black', order = order)\n",
    "plt.title('Days with the highest number bike share rides',weight = 'bold');"
   ]
  },
  {
   "cell_type": "markdown",
   "metadata": {},
   "source": [
    "It seems Thursdays usually record highest count of bike-share rides.Saturdays and Sundays records the least"
   ]
  },
  {
   "cell_type": "markdown",
   "metadata": {},
   "source": [
    "#### Summary of univariate exploration\n",
    "You would think subscribers will make a huge portion of the members but it's rather the non_subscribers.\n",
    "Interestingly,members who use bike_share for all their trips make up a large proportion of 90%.\n",
    "                                                                                                                   \n",
    "The ages in the member_age column had really extreme numbers.It is unusual for a 144 year old person to be alive and even in this context, be using bikes for their trips. I had to only include observations that had ages less than 80. Now the highest age is 78 years which is quite usual."
   ]
  },
  {
   "cell_type": "markdown",
   "metadata": {},
   "source": [
    "## Bivariate Exploration\n",
    "\n"
   ]
  },
  {
   "cell_type": "markdown",
   "metadata": {},
   "source": [
    "#### Average trip duration for members of bike-share for all trips\n",
    "Let's see the average trip time made by members who use bike-share for all trips"
   ]
  },
  {
   "cell_type": "code",
   "execution_count": 86,
   "metadata": {},
   "outputs": [
    {
     "data": {
      "image/png": "[encoded data removed]",
      "text/plain": [
       "<Figure size 432x288 with 1 Axes>"
      ]
     },
     "metadata": {
      "needs_background": "light"
     },
     "output_type": "display_data"
    }
   ],
   "source": [
    "sns.barplot(data = bike_df, y = 'duration_mins',x = 'bike_share_for_all_trip',ci = False)\n",
    "plt.title('Average trip duration for members of bike-share for all trips');"
   ]
  },
  {
   "cell_type": "markdown",
   "metadata": {},
   "source": [
    "There isn't any significant mean difference between members who use bike-share for all trips and those who do not. Interestingly, there is a marginal increase for members who do not use bike-share for all trips"
   ]
  },
  {
   "cell_type": "markdown",
   "metadata": {},
   "source": [
    "#### Average trip duration for each day \n",
    "What is the average trip duration covered by members on each day of the week"
   ]
  },
  {
   "cell_type": "code",
   "execution_count": 87,
   "metadata": {},
   "outputs": [
    {
     "data": {
      "image/png": "[encoded data removed]",
      "text/plain": [
       "<Figure size 720x360 with 1 Axes>"
      ]
     },
     "metadata": {
      "needs_background": "light"
     },
     "output_type": "display_data"
    }
   ],
   "source": [
    "order = ['Monday','Tuesday','Wednesday','Thursday','Friday','Saturday','Sunday']\n",
    "plt.figure(figsize = (10,5))\n",
    "sns.barplot(data = bike_df, y = 'duration_mins', x = 'start_day',color = 'brown' ,order = order)\n",
    "plt.title('Average Trip Duration for each Day',weight = 'bold');"
   ]
  },
  {
   "cell_type": "markdown",
   "metadata": {},
   "source": [
    "The error bars show  almost equally spread out data points. The weekends: Saturday and Sunday have the highest average trip duration. Members tend to have longer trip time on these days."
   ]
  },
  {
   "cell_type": "markdown",
   "metadata": {},
   "source": [
    "#### Distribution of trips covered for each gender\n",
    "Let's use these boxplot and strip plot to show the relationship between trip time covered based on gender"
   ]
  },
  {
   "cell_type": "code",
   "execution_count": 88,
   "metadata": {},
   "outputs": [
    {
     "data": {
      "image/png": "[encoded data removed]",
      "text/plain": [
       "<Figure size 720x360 with 1 Axes>"
      ]
     },
     "metadata": {
      "needs_background": "light"
     },
     "output_type": "display_data"
    }
   ],
   "source": [
    "plt.figure(figsize = (10,5))\n",
    "plot = sns.boxplot( x = 'member_gender', y = 'duration_mins',data = bike_df )\n",
    "plot.set(xlabel = 'Gender',ylabel = 'Trip Duration')\n",
    "plt.title('Trip Duration for each Gender',weight ='bold');"
   ]
  },
  {
   "cell_type": "code",
   "execution_count": 89,
   "metadata": {},
   "outputs": [
    {
     "data": {
      "image/png": "[encoded data removed]",
      "text/plain": [
       "<Figure size 720x360 with 1 Axes>"
      ]
     },
     "metadata": {
      "needs_background": "light"
     },
     "output_type": "display_data"
    }
   ],
   "source": [
    "plt.figure(figsize = (10,5))\n",
    "plot = sns.stripplot( x = 'member_gender', y = 'duration_mins',data = bike_df,color = 'blue' )\n",
    "plot.set(xlabel = 'Gender',ylabel = 'Trip Duration')\n",
    "plt.title('Trip Duration for each Gender',weight = 'bold');"
   ]
  },
  {
   "cell_type": "markdown",
   "metadata": {},
   "source": [
    "Although all gender do some long trip time,Males do longer trip time than Females and 'other' gender. 'Other' gender do the least trip time.This is also due to their sampling distribution in the dataset"
   ]
  },
  {
   "cell_type": "markdown",
   "metadata": {},
   "source": [
    "#### Number of trips during hours of the day based on user type\n",
    "Which group of members based on user type go on most trips throughout the day."
   ]
  },
  {
   "cell_type": "code",
   "execution_count": 90,
   "metadata": {},
   "outputs": [
    {
     "data": {
      "image/png": "[encoded data removed]",
      "text/plain": [
       "<Figure size 1080x360 with 1 Axes>"
      ]
     },
     "metadata": {
      "needs_background": "light"
     },
     "output_type": "display_data"
    }
   ],
   "source": [
    "title = \"Number of trips during hours of the day based on user type\"\n",
    "xlabel = \"Start Hour\"\n",
    "ylabel = \"Number of Trips\"\n",
    "def bicountplot(data,x,hue):\n",
    "    plt.figure(figsize = (15,5))\n",
    "    plot = sns.countplot(data = data, x = x, hue = hue)\n",
    "    plt.title(title,fontsize = 13,weight = 'bold')\n",
    "    plt.xlabel(xlabel.title(),fontsize = 10,weight = 'bold')\n",
    "    plt.ylabel(ylabel.title(),fontsize = 10,weight = 'bold')\n",
    "    return plot\n",
    "bicountplot(bike_df, \"start_hour\", 'user_type');\n"
   ]
  },
  {
   "cell_type": "markdown",
   "metadata": {},
   "source": [
    "The time of the day that recorded most number of trips is  8am and 5pm by non-subscribers(customers). I suggest, these are rush hours for members going to work and returning home respectively"
   ]
  },
  {
   "cell_type": "markdown",
   "metadata": {},
   "source": [
    "#### Average trip duration for member type\n",
    "What is the average rate of time covered for each user type"
   ]
  },
  {
   "cell_type": "code",
   "execution_count": 91,
   "metadata": {},
   "outputs": [
    {
     "data": {
      "image/png": "[encoded data removed]",
      "text/plain": [
       "<Figure size 720x360 with 1 Axes>"
      ]
     },
     "metadata": {
      "needs_background": "light"
     },
     "output_type": "display_data"
    }
   ],
   "source": [
    "plt.figure(figsize = (10,5))\n",
    "sns.barplot(x = 'user_type', y = 'duration_mins', data = bike_df )\n",
    "plt.title('Average Trip Duration for User Type',weight = 'bold');"
   ]
  },
  {
   "cell_type": "markdown",
   "metadata": {},
   "source": [
    "Non subscribers usually do longer trip time"
   ]
  },
  {
   "cell_type": "markdown",
   "metadata": {},
   "source": [
    "#### Association between user type and members who use bike-share for all trips\n",
    "What number of users who use bike-share for all their trips make up each user type."
   ]
  },
  {
   "cell_type": "code",
   "execution_count": 92,
   "metadata": {},
   "outputs": [
    {
     "data": {
      "image/png": "[encoded data removed]",
      "text/plain": [
       "<Figure size 1080x360 with 1 Axes>"
      ]
     },
     "metadata": {
      "needs_background": "light"
     },
     "output_type": "display_data"
    }
   ],
   "source": [
    "title = \"User Types That Use Bie-share For ALL Trips\"\n",
    "xlabel = \"User Type\"\n",
    "ylabel = \"Number of Members\"\n",
    "bicountplot(bike_df,'user_type','bike_share_for_all_trip');\n"
   ]
  },
  {
   "cell_type": "markdown",
   "metadata": {},
   "source": [
    "A big chunk of members who Do Not use bike-share for all their trips are subscribers. Both groups of members do not significantly use bike-share for all their trips."
   ]
  },
  {
   "cell_type": "markdown",
   "metadata": {},
   "source": [
    "#### Summary of Bivariate exploration\n",
    " Members who use bike-share for all trips and members who do not, have almost the same average trip time\n",
    " Subscribers and Non-subscribers mostly do not use bike-share for all trips\n",
    "\n",
    "It was interesting that there was no relationship between age and trip duration. How long a trip last did not depend on a member's age.\n",
    "Trip duration increases during weekends, but you would think members would need bike-share for busy work days."
   ]
  },
  {
   "cell_type": "markdown",
   "metadata": {},
   "source": [
    "## Multivariate Exploration\n",
    "\n"
   ]
  },
  {
   "cell_type": "markdown",
   "metadata": {},
   "source": [
    "#### Trip duration during hours of the day for user type\n",
    "Let's use the following bar plot and line chart to explore average time covered for both user types at each hour of the day"
   ]
  },
  {
   "cell_type": "code",
   "execution_count": 95,
   "metadata": {},
   "outputs": [
    {
     "data": {
      "image/png": "[encoded data removed]",
      "text/plain": [
       "<Figure size 1080x360 with 1 Axes>"
      ]
     },
     "metadata": {
      "needs_background": "light"
     },
     "output_type": "display_data"
    }
   ],
   "source": [
    "plt.figure(figsize = (15,5))\n",
    "sns.barplot(data = bike_df, x = \"start_hour\", y ='duration_mins' , hue='user_type', ci = False)\n",
    "plt.xlabel('Start Hour')\n",
    "plt.title('Trip duration during hours of the day for user type',weight = 'bold');"
   ]
  },
  {
   "cell_type": "markdown",
   "metadata": {},
   "source": [
    "Long trips are covered around 3am.Let's explore further with a line plot"
   ]
  },
  {
   "cell_type": "code",
   "execution_count": 96,
   "metadata": {},
   "outputs": [
    {
     "data": {
      "text/html": [
       "<div>\n",
       "<style scoped>\n",
       "    .dataframe tbody tr th:only-of-type {\n",
       "        vertical-align: middle;\n",
       "    }\n",
       "\n",
       "    .dataframe tbody tr th {\n",
       "        vertical-align: top;\n",
       "    }\n",
       "\n",
       "    .dataframe thead th {\n",
       "        text-align: right;\n",
       "    }\n",
       "</style>\n",
       "<table border=\"1\" class=\"dataframe\">\n",
       "  <thead>\n",
       "    <tr style=\"text-align: right;\">\n",
       "      <th>user_type</th>\n",
       "      <th>Customer</th>\n",
       "      <th>Subscriber</th>\n",
       "    </tr>\n",
       "    <tr>\n",
       "      <th>start_hour</th>\n",
       "      <th></th>\n",
       "      <th></th>\n",
       "    </tr>\n",
       "  </thead>\n",
       "  <tbody>\n",
       "    <tr>\n",
       "      <th>0</th>\n",
       "      <td>20.142857</td>\n",
       "      <td>12.183521</td>\n",
       "    </tr>\n",
       "    <tr>\n",
       "      <th>1</th>\n",
       "      <td>12.727273</td>\n",
       "      <td>10.172557</td>\n",
       "    </tr>\n",
       "    <tr>\n",
       "      <th>2</th>\n",
       "      <td>41.194444</td>\n",
       "      <td>14.622642</td>\n",
       "    </tr>\n",
       "    <tr>\n",
       "      <th>3</th>\n",
       "      <td>88.272727</td>\n",
       "      <td>19.372549</td>\n",
       "    </tr>\n",
       "    <tr>\n",
       "      <th>4</th>\n",
       "      <td>16.647059</td>\n",
       "      <td>10.476190</td>\n",
       "    </tr>\n",
       "    <tr>\n",
       "      <th>5</th>\n",
       "      <td>12.477612</td>\n",
       "      <td>9.291615</td>\n",
       "    </tr>\n",
       "    <tr>\n",
       "      <th>6</th>\n",
       "      <td>11.505747</td>\n",
       "      <td>8.250722</td>\n",
       "    </tr>\n",
       "    <tr>\n",
       "      <th>7</th>\n",
       "      <td>17.179448</td>\n",
       "      <td>9.233758</td>\n",
       "    </tr>\n",
       "    <tr>\n",
       "      <th>8</th>\n",
       "      <td>16.099804</td>\n",
       "      <td>9.977254</td>\n",
       "    </tr>\n",
       "    <tr>\n",
       "      <th>9</th>\n",
       "      <td>17.769231</td>\n",
       "      <td>9.743630</td>\n",
       "    </tr>\n",
       "    <tr>\n",
       "      <th>10</th>\n",
       "      <td>21.656627</td>\n",
       "      <td>9.934231</td>\n",
       "    </tr>\n",
       "    <tr>\n",
       "      <th>11</th>\n",
       "      <td>22.958115</td>\n",
       "      <td>11.414627</td>\n",
       "    </tr>\n",
       "    <tr>\n",
       "      <th>12</th>\n",
       "      <td>24.777895</td>\n",
       "      <td>10.864664</td>\n",
       "    </tr>\n",
       "    <tr>\n",
       "      <th>13</th>\n",
       "      <td>28.953139</td>\n",
       "      <td>10.829563</td>\n",
       "    </tr>\n",
       "    <tr>\n",
       "      <th>14</th>\n",
       "      <td>24.040835</td>\n",
       "      <td>11.510687</td>\n",
       "    </tr>\n",
       "    <tr>\n",
       "      <th>15</th>\n",
       "      <td>27.627451</td>\n",
       "      <td>10.799436</td>\n",
       "    </tr>\n",
       "    <tr>\n",
       "      <th>16</th>\n",
       "      <td>23.901639</td>\n",
       "      <td>10.041295</td>\n",
       "    </tr>\n",
       "    <tr>\n",
       "      <th>17</th>\n",
       "      <td>19.742560</td>\n",
       "      <td>10.348114</td>\n",
       "    </tr>\n",
       "    <tr>\n",
       "      <th>18</th>\n",
       "      <td>14.669025</td>\n",
       "      <td>9.821836</td>\n",
       "    </tr>\n",
       "    <tr>\n",
       "      <th>19</th>\n",
       "      <td>17.492669</td>\n",
       "      <td>10.410829</td>\n",
       "    </tr>\n",
       "    <tr>\n",
       "      <th>20</th>\n",
       "      <td>20.384444</td>\n",
       "      <td>9.996181</td>\n",
       "    </tr>\n",
       "    <tr>\n",
       "      <th>21</th>\n",
       "      <td>27.734513</td>\n",
       "      <td>10.007389</td>\n",
       "    </tr>\n",
       "    <tr>\n",
       "      <th>22</th>\n",
       "      <td>18.482301</td>\n",
       "      <td>8.947799</td>\n",
       "    </tr>\n",
       "    <tr>\n",
       "      <th>23</th>\n",
       "      <td>34.800000</td>\n",
       "      <td>10.330275</td>\n",
       "    </tr>\n",
       "  </tbody>\n",
       "</table>\n",
       "</div>"
      ],
      "text/plain": [
       "user_type    Customer  Subscriber\n",
       "start_hour                       \n",
       "0           20.142857   12.183521\n",
       "1           12.727273   10.172557\n",
       "2           41.194444   14.622642\n",
       "3           88.272727   19.372549\n",
       "4           16.647059   10.476190\n",
       "5           12.477612    9.291615\n",
       "6           11.505747    8.250722\n",
       "7           17.179448    9.233758\n",
       "8           16.099804    9.977254\n",
       "9           17.769231    9.743630\n",
       "10          21.656627    9.934231\n",
       "11          22.958115   11.414627\n",
       "12          24.777895   10.864664\n",
       "13          28.953139   10.829563\n",
       "14          24.040835   11.510687\n",
       "15          27.627451   10.799436\n",
       "16          23.901639   10.041295\n",
       "17          19.742560   10.348114\n",
       "18          14.669025    9.821836\n",
       "19          17.492669   10.410829\n",
       "20          20.384444    9.996181\n",
       "21          27.734513   10.007389\n",
       "22          18.482301    8.947799\n",
       "23          34.800000   10.330275"
      ]
     },
     "execution_count": 96,
     "metadata": {},
     "output_type": "execute_result"
    }
   ],
   "source": [
    "hour = bike_df.pivot_table(index = 'start_hour', columns = 'user_type', values = 'duration_mins', aggfunc = 'mean')\n",
    "hour"
   ]
  },
  {
   "cell_type": "code",
   "execution_count": 98,
   "metadata": {},
   "outputs": [
    {
     "data": {
      "image/png": "[encoded data removed]",
      "text/plain": [
       "<Figure size 864x432 with 1 Axes>"
      ]
     },
     "metadata": {
      "needs_background": "light"
     },
     "output_type": "display_data"
    }
   ],
   "source": [
    "hour.plot(kind='line', linewidth=1.0, figsize=(12, 6))\n",
    "plt.ylabel('Trip Duration')\n",
    "plt.xlabel ('Start Hour')\n",
    "plt.title(\"Trip duration rate during hours of the day for user type\",weight = 'bold');"
   ]
  },
  {
   "cell_type": "markdown",
   "metadata": {},
   "source": [
    "Both user types go on longer trips during the hours of 3am although customers(non-subscribers) have a significantly higher rate"
   ]
  },
  {
   "cell_type": "markdown",
   "metadata": {},
   "source": [
    "#### Association between trip time, day and members who use bike-share for  all their trips\n",
    "Let's find out  days on which members that use bike-share for all trips do more trip time"
   ]
  },
  {
   "cell_type": "code",
   "execution_count": 99,
   "metadata": {},
   "outputs": [
    {
     "data": {
      "image/png": "[encoded data removed]",
      "text/plain": [
       "<Figure size 720x360 with 1 Axes>"
      ]
     },
     "metadata": {
      "needs_background": "light"
     },
     "output_type": "display_data"
    }
   ],
   "source": [
    "plt.figure(figsize = (10,5))\n",
    "order = order = ['Monday','Tuesday','Wednesday','Thursday','Friday','Saturday','Sunday']\n",
    "sns.barplot(data = bike_df, x = \"start_day\", y = \"duration_mins\",   hue='bike_share_for_all_trip',order = order,ci = None)\n",
    "plt.title(\"Trip duration for each day per bike for all trip members\",weight = 'bold')\n",
    "plt.show()"
   ]
  },
  {
   "cell_type": "markdown",
   "metadata": {},
   "source": [
    "Members who do not use bike-share for all their trips  usually have longer trip duration on Saturdays and Sundays. The other days almost stays the same throughout.                                                                    \n",
    "Members who use bike-share for all their trips have almost the same average trip duration throughout the week with just a marginal difference on Saturdays."
   ]
  },
  {
   "cell_type": "markdown",
   "metadata": {},
   "source": [
    "#### Association between trip duration,user-type and bike_share_for_all_trips\n",
    "Let's investigate trip time covered by user types and members who use bike-share for all trips"
   ]
  },
  {
   "cell_type": "code",
   "execution_count": 100,
   "metadata": {},
   "outputs": [
    {
     "data": {
      "image/png": "[encoded data removed]",
      "text/plain": [
       "<Figure size 720x360 with 1 Axes>"
      ]
     },
     "metadata": {
      "needs_background": "light"
     },
     "output_type": "display_data"
    }
   ],
   "source": [
    "plt.figure(figsize = (10,5))\n",
    "sns.barplot(x = 'user_type', y = 'duration_mins', hue = 'bike_share_for_all_trip', data = bike_df, ci = None)\n",
    "plt.title('Trip time covered by user types and members who use bike-share for all trips',weight = 'bold');"
   ]
  },
  {
   "cell_type": "markdown",
   "metadata": {},
   "source": [
    "Non subscribers who Do Not use bike_share for all trips usually have longer trip time "
   ]
  },
  {
   "cell_type": "markdown",
   "metadata": {},
   "source": [
    "#### Association between ages, user_type and bike-share_for_all_trip\n",
    "Age distribution of user types and members who use bike-share for all their trips"
   ]
  },
  {
   "cell_type": "code",
   "execution_count": 101,
   "metadata": {},
   "outputs": [
    {
     "data": {
      "image/png": "[encoded data removed]",
      "text/plain": [
       "<Figure size 864x432 with 1 Axes>"
      ]
     },
     "metadata": {
      "needs_background": "light"
     },
     "output_type": "display_data"
    }
   ],
   "source": [
    "plt.figure(figsize=(12,6))\n",
    "sns.boxplot(x = 'member_age',y = 'user_type', hue = 'bike_share_for_all_trip', data = bike_df)\n",
    "plt.title('Age distribution of user types and members who use bike-share for all their trips ',weight = 'bold');"
   ]
  },
  {
   "cell_type": "markdown",
   "metadata": {},
   "source": [
    "Both subscribers and customers(non subscribers) who Do Not use bike-share for all their trips have almost the same median age at about 33 years.                                                                                \n",
    "The median age of subscribers who use bike-share for all trips is around 28 years.                                      \n"
   ]
  },
  {
   "cell_type": "markdown",
   "metadata": {},
   "source": [
    "#### Trip time covered on each day of the month based on user type\n",
    "This lineplot will show us the trend for average trip based on user types on each day of the month"
   ]
  },
  {
   "cell_type": "code",
   "execution_count": 102,
   "metadata": {},
   "outputs": [
    {
     "data": {
      "image/png": "[encoded data removed]",
      "text/plain": [
       "<Figure size 720x360 with 1 Axes>"
      ]
     },
     "metadata": {
      "needs_background": "light"
     },
     "output_type": "display_data"
    }
   ],
   "source": [
    "plt.figure(figsize= (10,5))\n",
    "plt.xticks(rotation = 90)\n",
    "sns.lineplot(data = bike_df, x = 'start_date', y = 'duration_mins',hue = 'user_type', ci = False)\n",
    "plt.title('Trip time covered on each day of the month based on user type',weight = 'bold');"
   ]
  },
  {
   "cell_type": "markdown",
   "metadata": {},
   "source": [
    " Non subscribers go on longer trips than subscribers throughout the month. February,9th recorded the longest trip duration and the least trip duration was on February,13                                                                             \n",
    "Non Subscribers had the most trip duration on February,17th and 23rd."
   ]
  },
  {
   "cell_type": "markdown",
   "metadata": {},
   "source": [
    "#### Trip time covered on each day of the month based on bike_share_for_all_trips\n",
    "Let's investigate average trip time for each day of the month for members who use bike-share for all trips"
   ]
  },
  {
   "cell_type": "code",
   "execution_count": 103,
   "metadata": {},
   "outputs": [
    {
     "data": {
      "image/png": "[encoded data removed]",
      "text/plain": [
       "<Figure size 720x360 with 1 Axes>"
      ]
     },
     "metadata": {
      "needs_background": "light"
     },
     "output_type": "display_data"
    }
   ],
   "source": [
    "plt.figure(figsize= (10,5))\n",
    "plt.xticks(rotation = 90)\n",
    "sns.lineplot(data = bike_df, x = 'start_date', y = 'duration_mins',hue = 'bike_share_for_all_trip', estimator = 'mean',ci = False)\n",
    "plt.title('Trip time covered on each day of the month based on bike_share_for_all_trips');"
   ]
  },
  {
   "cell_type": "markdown",
   "metadata": {},
   "source": [
    "Members who Do Not use bike-share for all trips did longer trips than members who use bike_share for all trips throughout the month. \n",
    "February 17th, recorded highest trip duration for members who Do Not use bike-share for all trips while February 23rd was the highest for members who use bike-share for all trips\n",
    "February,13th recorded the least trip duration for both groups"
   ]
  },
  {
   "cell_type": "markdown",
   "metadata": {},
   "source": [
    "### Observed relationships between features of Interest and other supporting Features\n",
    "                \n",
    "1.Non-subscribers(customers) who Do Not use bike_share for all trips had longer trip time.                            \n",
    "2.Non-subscribers(customers) have longer trip time throughout the month than subscribers.                             \n",
    "                                                                            \n",
    "                                                                            \n",
    "3.Generally, Females also do long trips as males.                                                            .                 \n",
    "4.Weekends(saturdays and sundays) recorded the least number of trips but still had the longest trip duration.                   \n",
    "5.Rush hours for bike-share are 8am and 5pm by customers(non-subscribers).It is same for subscribers although they make up a smaller number\n",
    "\n",
    "\n",
    "\n",
    "### Interesting interactions between features.\n",
    "\n",
    "Apparently there are no customers(non-subscribers) who use bike-share for all their trips .                                 \n",
    "Members patronize bike-share throughout the day. Interestingly, the longest trip duration is around 3am for both user types   \n",
    "Non subscribers(customers) go on longer trips than subscribers throughout the month.                                 \n",
    "Both user types(subscribers and customers) generally do not use bike-share for all trips although just small number of subscribers of about 2000 use bike-share for all trips.                                                         \n",
    "Although some members do long trips, the most count of trip times falls between 5 and 10 minutes\n",
    "\n"
   ]
  },
  {
   "cell_type": "markdown",
   "metadata": {},
   "source": [
    "## Conclusions\n",
    "There should be programs to encourage subscribers to use more of  bike-share for their trips.                                 \n",
    "Other gender should be encouraged to become members since males are more than twice the Females and even more than 'Other' gender.                                                \n",
    "Data that covers a whole year need to be collected for thorough analysis.\n"
   ]
  },
  {
   "cell_type": "code",
   "execution_count": null,
   "metadata": {},
   "outputs": [],
   "source": []
  }
 ],
 "metadata": {
  "kernelspec": {
   "display_name": "Python 3 (ipykernel)",
   "language": "python",
   "name": "python3"
  },
  "language_info": {
   "codemirror_mode": {
    "name": "ipython",
    "version": 3
   },
   "file_extension": ".py",
   "mimetype": "text/x-python",
   "name": "python",
   "nbconvert_exporter": "python",
   "pygments_lexer": "ipython3",
   "version": "3.10.5"
  }
 },
 "nbformat": 4,
 "nbformat_minor": 2
}
